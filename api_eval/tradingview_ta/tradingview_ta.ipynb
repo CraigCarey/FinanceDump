{
 "cells": [
  {
   "cell_type": "code",
   "execution_count": 6,
   "metadata": {},
   "outputs": [],
   "source": [
    "import tradingview_ta as ta"
   ]
  },
  {
   "cell_type": "code",
   "execution_count": 2,
   "metadata": {},
   "outputs": [
    {
     "data": {
      "text/plain": [
       "276.69"
      ]
     },
     "execution_count": 2,
     "metadata": {},
     "output_type": "execute_result"
    }
   ],
   "source": [
    "# Define the ticker symbol and exchange\n",
    "symbol = \"SBER\"\n",
    "exchange = \"ALOR\"  # Moscow Exchange\n",
    "screener=\"russia\" # Country screener, use 'russia' for MOEX\n",
    "\n",
    "# Create a TradingView object for the given symbol and exchange\n",
    "ticker = ta.TA_Handler(\n",
    "    symbol=symbol,\n",
    "    screener=screener,  \n",
    "    exchange=exchange,\n",
    "    interval=ta.Interval.INTERVAL_1_DAY  # Interval for the data\n",
    ")\n",
    "\n",
    "analysis = ticker.get_analysis()\n",
    "analysis.indicators['close']"
   ]
  },
  {
   "cell_type": "code",
   "execution_count": 3,
   "metadata": {},
   "outputs": [
    {
     "data": {
      "text/plain": [
       "126.5"
      ]
     },
     "execution_count": 3,
     "metadata": {},
     "output_type": "execute_result"
    }
   ],
   "source": [
    "# Define the ticker symbol and exchange\n",
    "symbol = \"JEMA\"\n",
    "exchange = \"LSE\"  # Moscow Exchange\n",
    "screener=\"uk\" # Country screener, use 'russia' for MOEX\n",
    "\n",
    "# Create a TradingView object for the given symbol and exchange\n",
    "ticker = ta.TA_Handler(\n",
    "    symbol=symbol,\n",
    "    screener=screener,  \n",
    "    exchange=exchange,\n",
    "    interval=ta.Interval.INTERVAL_1_DAY  # Interval for the data\n",
    ")\n",
    "\n",
    "analysis = ticker.get_analysis()\n",
    "analysis.indicators['close']"
   ]
  },
  {
   "cell_type": "code",
   "execution_count": 5,
   "metadata": {},
   "outputs": [
    {
     "data": {
      "text/plain": [
       "44.09"
      ]
     },
     "execution_count": 5,
     "metadata": {},
     "output_type": "execute_result"
    }
   ],
   "source": [
    "# Define the ticker symbol and exchange\n",
    "symbol = \"FANDY\"\n",
    "exchange = \"OTC\"  # Moscow Exchange\n",
    "screener=\"america\" # Country screener, use 'russia' for MOEX\n",
    "\n",
    "# Create a TradingView object for the given symbol and exchange\n",
    "ticker = ta.TA_Handler(\n",
    "    symbol=symbol,\n",
    "    screener=screener,  \n",
    "    exchange=exchange,\n",
    "    interval=ta.Interval.INTERVAL_1_DAY  # Interval for the data\n",
    ")\n",
    "\n",
    "analysis = ticker.get_analysis()\n",
    "analysis.indicators['close']"
   ]
  },
  {
   "cell_type": "code",
   "execution_count": 7,
   "metadata": {},
   "outputs": [
    {
     "name": "stdout",
     "output_type": "stream",
     "text": [
      "FIXP: 210.1\n",
      "SIBN: 671.4\n",
      "GAZP: 126.36\n",
      "LKOH: 6239.5\n",
      "MGNT: 5371\n",
      "MDMG: 825.2\n",
      "GMKN: 125.88\n",
      "NVTK: 1008.4\n",
      "NLMK: 162.06\n",
      "PLZL: 12714.5\n",
      "ROSN: 489.7\n",
      "RTKM: 84.53\n",
      "SBER: 274.6\n",
      "CHMF: 1375\n",
      "AFKS: 19.815\n",
      "TATN: 600.8\n",
      "TCSG: 2563\n",
      "VTBR: 97.85\n",
      "FIVE: 2798\n",
      "YDEX: 3776.5\n"
     ]
    }
   ],
   "source": [
    "russians = ['FIXP',\n",
    "'SIBN',\n",
    "'GAZP',\n",
    "'LKOH',\n",
    "'MGNT',\n",
    "'MDMG',\n",
    "'GMKN',\n",
    "'NVTK',\n",
    "'NLMK',\n",
    "'PLZL',\n",
    "'ROSN',\n",
    "'RTKM',\n",
    "'SBER',\n",
    "'CHMF',\n",
    "'AFKS',\n",
    "'TATN',\n",
    "'TCSG',\n",
    "'VTBR',\n",
    "'FIVE',\n",
    "'YDEX']\n",
    "\n",
    "exchange = \"ALOR\"  # Moscow Exchange\n",
    "screener=\"russia\" # Country screener, use 'russia' for MOEX\n",
    "\n",
    "for russian in russians:\n",
    "\n",
    "    # Create a TradingView object for the given symbol and exchange\n",
    "    ticker = ta.TA_Handler(\n",
    "        symbol=russian,\n",
    "        screener=screener,  \n",
    "        exchange=exchange,\n",
    "        interval=ta.Interval.INTERVAL_1_DAY  # Interval for the data\n",
    "    )\n",
    "\n",
    "    analysis = ticker.get_analysis()\n",
    "    print(f\"{russian}: {analysis.indicators['close']}\")"
   ]
  },
  {
   "cell_type": "code",
   "execution_count": 3,
   "metadata": {},
   "outputs": [
    {
     "ename": "NameError",
     "evalue": "name 'analysis' is not defined",
     "output_type": "error",
     "traceback": [
      "\u001b[0;31m---------------------------------------------------------------------------\u001b[0m",
      "\u001b[0;31mNameError\u001b[0m                                 Traceback (most recent call last)",
      "Cell \u001b[0;32mIn[3], line 1\u001b[0m\n\u001b[0;32m----> 1\u001b[0m \u001b[43manalysis\u001b[49m\u001b[38;5;241m.\u001b[39mindicators[\u001b[38;5;124m'\u001b[39m\u001b[38;5;124mclose\u001b[39m\u001b[38;5;124m'\u001b[39m]\n\u001b[1;32m      2\u001b[0m \u001b[38;5;66;03m# analysis.indicators\u001b[39;00m\n",
      "\u001b[0;31mNameError\u001b[0m: name 'analysis' is not defined"
     ]
    }
   ],
   "source": [
    "analysis.indicators['close']\n",
    "# analysis.indicators"
   ]
  },
  {
   "cell_type": "code",
   "execution_count": 3,
   "metadata": {},
   "outputs": [
    {
     "name": "stdout",
     "output_type": "stream",
     "text": [
      "Symbol: RUBGBP\n",
      "Summary: {'RECOMMENDATION': 'SELL', 'BUY': 1, 'SELL': 14, 'NEUTRAL': 10}\n",
      "Current: 0.008672\n"
     ]
    }
   ],
   "source": [
    "# Example: Get analysis for a specific currency pair\n",
    "symbol = \"RUBGBP\"\n",
    "handler = ta.TA_Handler(\n",
    "    symbol=symbol,\n",
    "    screener=\"forex\",  # Use \"forex\" for currency pairs\n",
    "    exchange=\"FX_IDC\",  # Common exchange for forex pairs\n",
    "    interval=ta.Interval.INTERVAL_1_DAY  # 1 day interval for analysis\n",
    ")\n",
    "\n",
    "# Get analysis summary\n",
    "analysis = handler.get_analysis()\n",
    "\n",
    "# Print the summary\n",
    "print(f\"Symbol: {symbol}\")\n",
    "print(f\"Summary: {analysis.summary}\")\n",
    "print(f\"Current: {analysis.indicators['close']}\")"
   ]
  }
 ],
 "metadata": {
  "kernelspec": {
   "display_name": "finance-venv",
   "language": "python",
   "name": "python3"
  },
  "language_info": {
   "codemirror_mode": {
    "name": "ipython",
    "version": 3
   },
   "file_extension": ".py",
   "mimetype": "text/x-python",
   "name": "python",
   "nbconvert_exporter": "python",
   "pygments_lexer": "ipython3",
   "version": "3.12.3"
  }
 },
 "nbformat": 4,
 "nbformat_minor": 2
}
