{
 "cells": [
  {
   "cell_type": "code",
   "execution_count": 1,
   "metadata": {},
   "outputs": [],
   "source": [
    "import tradingview_ta as ta"
   ]
  },
  {
   "cell_type": "code",
   "execution_count": 2,
   "metadata": {},
   "outputs": [],
   "source": [
    "# Define the ticker symbol and exchange\n",
    "symbol = \"GAZP\"\n",
    "exchange = \"MOEX\"  # Moscow Exchange\n",
    "\n",
    "# Create a TradingView object for the given symbol and exchange\n",
    "ticker = ta.TA_Handler(\n",
    "    symbol=symbol,\n",
    "    screener=\"russia\",  # Country screener, use 'russia' for MOEX\n",
    "    exchange=exchange,\n",
    "    interval=ta.Interval.INTERVAL_1_DAY  # Interval for the data\n",
    ")\n",
    "\n",
    "analysis = ticker.get_analysis()"
   ]
  },
  {
   "cell_type": "code",
   "execution_count": 13,
   "metadata": {},
   "outputs": [
    {
     "data": {
      "text/plain": [
       "128.71"
      ]
     },
     "execution_count": 13,
     "metadata": {},
     "output_type": "execute_result"
    }
   ],
   "source": [
    "analysis.indicators['close']\n",
    "# analysis.indicators"
   ]
  },
  {
   "cell_type": "code",
   "execution_count": 16,
   "metadata": {},
   "outputs": [
    {
     "name": "stdout",
     "output_type": "stream",
     "text": [
      "Symbol: RUBGBP\n",
      "Summary: {'RECOMMENDATION': 'STRONG_SELL', 'BUY': 0, 'SELL': 15, 'NEUTRAL': 10}\n",
      "Current: 0.008588\n"
     ]
    }
   ],
   "source": [
    "# Example: Get analysis for a specific currency pair\n",
    "symbol = \"RUBGBP\"\n",
    "handler = ta.TA_Handler(\n",
    "    symbol=symbol,\n",
    "    screener=\"forex\",  # Use \"forex\" for currency pairs\n",
    "    exchange=\"FX_IDC\",  # Common exchange for forex pairs\n",
    "    interval=ta.Interval.INTERVAL_1_DAY  # 1 day interval for analysis\n",
    ")\n",
    "\n",
    "# Get analysis summary\n",
    "analysis = handler.get_analysis()\n",
    "\n",
    "# Print the summary\n",
    "print(f\"Symbol: {symbol}\")\n",
    "print(f\"Summary: {analysis.summary}\")\n",
    "print(f\"Current: {analysis.indicators['close']}\")"
   ]
  }
 ],
 "metadata": {
  "kernelspec": {
   "display_name": "finance-venv",
   "language": "python",
   "name": "python3"
  },
  "language_info": {
   "codemirror_mode": {
    "name": "ipython",
    "version": 3
   },
   "file_extension": ".py",
   "mimetype": "text/x-python",
   "name": "python",
   "nbconvert_exporter": "python",
   "pygments_lexer": "ipython3",
   "version": "3.12.3"
  }
 },
 "nbformat": 4,
 "nbformat_minor": 2
}
