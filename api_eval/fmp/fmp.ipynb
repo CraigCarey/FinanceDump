{
 "cells": [
  {
   "cell_type": "code",
   "execution_count": 2,
   "metadata": {},
   "outputs": [],
   "source": [
    "#! /usr/bin/env python3\n",
    "\n",
    "from pprint import pprint\n",
    "\n",
    "import fmpsdk\n",
    "\n",
    "with open('/home/craigc/.keys/financialmodelingprep.txt', 'r') as file:\n",
    "    api_key = file.read()"
   ]
  },
  {
   "cell_type": "code",
   "execution_count": 3,
   "metadata": {},
   "outputs": [],
   "source": [
    "symbol: str = \"AAPL\"\n",
    "# print(f\"Company Profile: {fmpsdk.company_profile(apikey=api_key, symbol=symbol)}\")"
   ]
  },
  {
   "cell_type": "code",
   "execution_count": null,
   "metadata": {},
   "outputs": [
    {
     "name": "stdout",
     "output_type": "stream",
     "text": [
      "'Financial Ratios (TTM):'\n",
      "[{'assetTurnoverTTM': 1.0713874732862074,\n",
      "  'capitalExpenditureCoverageRatioTTM': 12.517624642743728,\n",
      "  'cashConversionCycleTTM': -45.18334692543202,\n",
      "  'cashFlowCoverageRatiosTTM': 1.109022873702276,\n",
      "  'cashFlowToDebtRatioTTM': 1.109022873702276,\n",
      "  'cashPerShareTTM': 4.295481344240274,\n",
      "  'cashRatioTTM': 0.16975259648963673,\n",
      "  'companyEquityMultiplierTTM': 6.408779631255487,\n",
      "  'currentRatioTTM': 0.8673125765340832,\n",
      "  'daysOfInventoryOutstandingTTM': 12.642570548414087,\n",
      "  'daysOfPayablesOutstandingTTM': 119.65847721913745,\n",
      "  'daysOfSalesOutstandingTTM': 61.83255974529134,\n",
      "  'debtEquityRatioTTM': 1.872326602282704,\n",
      "  'debtRatioTTM': 0.29215025480848267,\n",
      "  'dividendPaidAndCapexCoverageRatioTTM': 4.7912969490701345,\n",
      "  'dividendPerShareTTM': 0.99,\n",
      "  'dividendYielPercentageTTM': 0.39541478611654746,\n",
      "  'dividendYielTTM': 0.003954147861165475,\n",
      "  'ebitPerRevenueTTM': 0.31510222870075566,\n",
      "  'ebtPerEbitTTM': 1.0021831580314244,\n",
      "  'effectiveTaxRateTTM': 0.24091185164189982,\n",
      "  'enterpriseValueMultipleTTM': 28.67369799719295,\n",
      "  'fixedAssetTurnoverTTM': 8.560310858143607,\n",
      "  'freeCashFlowOperatingCashFlowRatioTTM': 0.9201126388959359,\n",
      "  'freeCashFlowPerShareTTM': 7.171570769556268,\n",
      "  'grossProfitMarginTTM': 0.4620634981523393,\n",
      "  'interestCoverageTTM': 0,\n",
      "  'inventoryTurnoverTTM': 28.870710952511665,\n",
      "  'longTermDebtToCapitalizationTTM': 0.6009110021023125,\n",
      "  'netIncomePerEBTTTM': 0.7590881483581001,\n",
      "  'netProfitMarginTTM': 0.23971255769943867,\n",
      "  'operatingCashFlowPerShareTTM': 7.794231343416388,\n",
      "  'operatingCashFlowSalesRatioTTM': 0.3024128274962599,\n",
      "  'operatingCycleTTM': 74.47513029370543,\n",
      "  'operatingProfitMarginTTM': 0.31510222870075566,\n",
      "  'payablesTurnoverTTM': 3.0503480278422272,\n",
      "  'payoutRatioTTM': 0.16252026969360758,\n",
      "  'peRatioTTM': 40.524570456388155,\n",
      "  'pegRatioTTM': -5.341138386151959,\n",
      "  'pretaxProfitMarginTTM': 0.3157901466620635,\n",
      "  'priceBookValueRatioTTM': 66.70081011940299,\n",
      "  'priceCashFlowRatioTTM': 32.122474811000046,\n",
      "  'priceEarningsRatioTTM': 40.524570456388155,\n",
      "  'priceEarningsToGrowthRatioTTM': -5.341138386151959,\n",
      "  'priceFairValueTTM': 66.70081011940299,\n",
      "  'priceSalesRatioTTM': 9.678271372127814,\n",
      "  'priceToBookRatioTTM': 66.70081011940299,\n",
      "  'priceToFreeCashFlowsRatioTTM': 34.782163335079545,\n",
      "  'priceToOperatingCashFlowsRatioTTM': 32.122474811000046,\n",
      "  'priceToSalesRatioTTM': 9.678271372127814,\n",
      "  'quickRatioTTM': 0.8260068483831466,\n",
      "  'receivablesTurnoverTTM': 5.903038811648023,\n",
      "  'returnOnAssetsTTM': 0.25682503150857583,\n",
      "  'returnOnCapitalEmployedTTM': 0.6533607652660827,\n",
      "  'returnOnEquityTTM': 1.3787138906865917,\n",
      "  'shortTermCoverageRatiosTTM': 5.663777000814215,\n",
      "  'totalDebtToCapitalizationTTM': 0.6518501763673821}]\n"
     ]
    }
   ],
   "source": [
    "ratios = fmpsdk.financial_ratios_ttm(apikey=api_key, symbol=symbol)\n",
    "\n",
    "pprint(f\"Financial Ratios (TTM):\")\n",
    "pprint(ratios)"
   ]
  },
  {
   "cell_type": "code",
   "execution_count": 5,
   "metadata": {},
   "outputs": [],
   "source": [
    "balance_sheet = fmpsdk.balance_sheet_statement(apikey=api_key, symbol=symbol, limit=1)\n",
    "income_statement = fmpsdk.income_statement(apikey=api_key, symbol=symbol, limit=1)\n",
    "key_metrics = fmpsdk.key_metrics(apikey=api_key, symbol=symbol, limit=1)"
   ]
  },
  {
   "cell_type": "code",
   "execution_count": 10,
   "metadata": {},
   "outputs": [
    {
     "name": "stdout",
     "output_type": "stream",
     "text": [
      "Earnings Yield: 3.77%\n",
      "Return on Capital: 100.77%\n"
     ]
    }
   ],
   "source": [
    "# Magic formula\n",
    "\n",
    "# Extract necessary values\n",
    "total_debt = balance_sheet[0]['totalDebt']\n",
    "cash_and_equivalents = balance_sheet[0]['cashAndCashEquivalents']\n",
    "ebit = income_statement[0]['ebitda']  # Earnings before interest and taxes\n",
    "market_cap = key_metrics[0]['marketCap']\n",
    "enterprise_value = key_metrics[0]['enterpriseValue']\n",
    "\n",
    "# Calculate Earnings Yield = EBIT / Enterprise Value\n",
    "earnings_yield = ebit / enterprise_value\n",
    "\n",
    "# Calculate Return on Capital = EBIT / (Total Debt + Equity - Cash)\n",
    "total_equity = balance_sheet[0]['totalStockholdersEquity']\n",
    "return_on_capital = ebit / (total_debt + total_equity - cash_and_equivalents)\n",
    "\n",
    "# Display results\n",
    "print(f\"Earnings Yield: {earnings_yield:.2%}\")\n",
    "print(f\"Return on Capital: {return_on_capital:.2%}\")\n"
   ]
  },
  {
   "cell_type": "code",
   "execution_count": 9,
   "metadata": {},
   "outputs": [
    {
     "data": {
      "text/plain": [
       "[{'date': '2024-09-28',\n",
       "  'symbol': 'AAPL',\n",
       "  'reportedCurrency': 'USD',\n",
       "  'cik': '0000320193',\n",
       "  'fillingDate': '2024-11-01',\n",
       "  'acceptedDate': '2024-11-01 06:01:36',\n",
       "  'calendarYear': '2024',\n",
       "  'period': 'FY',\n",
       "  'revenue': 391035000000,\n",
       "  'costOfRevenue': 210352000000,\n",
       "  'grossProfit': 180683000000,\n",
       "  'grossProfitRatio': 0.4620634982,\n",
       "  'researchAndDevelopmentExpenses': 31370000000,\n",
       "  'generalAndAdministrativeExpenses': 0,\n",
       "  'sellingAndMarketingExpenses': 0,\n",
       "  'sellingGeneralAndAdministrativeExpenses': 26097000000,\n",
       "  'otherExpenses': 0,\n",
       "  'operatingExpenses': 57467000000,\n",
       "  'costAndExpenses': 267819000000,\n",
       "  'interestIncome': 0,\n",
       "  'interestExpense': 0,\n",
       "  'depreciationAndAmortization': 11445000000,\n",
       "  'ebitda': 134661000000,\n",
       "  'ebitdaratio': 0.3443707085,\n",
       "  'operatingIncome': 123216000000,\n",
       "  'operatingIncomeRatio': 0.3151022287,\n",
       "  'totalOtherIncomeExpensesNet': 269000000,\n",
       "  'incomeBeforeTax': 123485000000,\n",
       "  'incomeBeforeTaxRatio': 0.3157901467,\n",
       "  'incomeTaxExpense': 29749000000,\n",
       "  'netIncome': 93736000000,\n",
       "  'netIncomeRatio': 0.2397125577,\n",
       "  'eps': 6.11,\n",
       "  'epsdiluted': 6.08,\n",
       "  'weightedAverageShsOut': 15343783000,\n",
       "  'weightedAverageShsOutDil': 15408095000,\n",
       "  'link': 'https://www.sec.gov/Archives/edgar/data/320193/000032019324000123/0000320193-24-000123-index.htm',\n",
       "  'finalLink': 'https://www.sec.gov/Archives/edgar/data/320193/000032019324000123/aapl-20240928.htm'}]"
      ]
     },
     "metadata": {},
     "output_type": "display_data"
    }
   ],
   "source": [
    "display(income_statement)"
   ]
  },
  {
   "cell_type": "code",
   "execution_count": null,
   "metadata": {},
   "outputs": [],
   "source": []
  }
 ],
 "metadata": {
  "kernelspec": {
   "display_name": "Python 3",
   "language": "python",
   "name": "python3"
  },
  "language_info": {
   "codemirror_mode": {
    "name": "ipython",
    "version": 3
   },
   "file_extension": ".py",
   "mimetype": "text/x-python",
   "name": "python",
   "nbconvert_exporter": "python",
   "pygments_lexer": "ipython3",
   "version": "3.12.3"
  }
 },
 "nbformat": 4,
 "nbformat_minor": 2
}
