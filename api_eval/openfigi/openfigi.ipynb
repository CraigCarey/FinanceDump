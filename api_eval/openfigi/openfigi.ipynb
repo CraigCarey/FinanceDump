{
 "cells": [
  {
   "cell_type": "code",
   "execution_count": 1,
   "metadata": {},
   "outputs": [],
   "source": [
    "import requests"
   ]
  },
  {
   "cell_type": "code",
   "execution_count": 3,
   "metadata": {},
   "outputs": [
    {
     "name": "stdout",
     "output_type": "stream",
     "text": [
      "API Key read successfully.\n"
     ]
    }
   ],
   "source": [
    "def read_api_key(file_path):\n",
    "    try:\n",
    "        with open(file_path, 'r') as file:\n",
    "            api_key = file.read().strip()\n",
    "            return api_key\n",
    "    except FileNotFoundError:\n",
    "        print(f\"Error: The file '{file_path}' does not exist.\")\n",
    "        return None\n",
    "    except Exception as e:\n",
    "        print(f\"An error occurred: {e}\")\n",
    "        return None\n",
    "\n",
    "api_key_file = \"/home/craigc/.keys/openfigi\"\n",
    "api_key = read_api_key(api_key_file)\n",
    "\n",
    "if api_key:\n",
    "    print(\"API Key read successfully.\")\n",
    "else:\n",
    "    print(\"Failed to read the API Key.\")"
   ]
  },
  {
   "cell_type": "code",
   "execution_count": 8,
   "metadata": {},
   "outputs": [
    {
     "name": "stdout",
     "output_type": "stream",
     "text": [
      "[{'data': [{'figi': 'BBG000BF9DG8', 'name': 'ABSA GROUP LTD', 'ticker': 'ABG', 'exchCode': 'SJ', 'compositeFIGI': 'BBG000BF9C25', 'securityType': 'Common Stock', 'marketSector': 'Equity', 'shareClassFIGI': 'BBG001S7JF34', 'securityType2': 'Common Stock', 'securityDescription': 'ABG'}]}]\n"
     ]
    }
   ],
   "source": [
    "def query_openfigi_by_sedol(api_key, sedol):\n",
    "    url = \"https://api.openfigi.com/v3/mapping\"\n",
    "    headers = {\n",
    "        'Content-Type': 'application/json',\n",
    "        'X-OPENFIGI-APIKEY': api_key\n",
    "    }\n",
    "    payload = [\n",
    "        {\n",
    "            \"idType\": \"ID_SEDOL\",\n",
    "            \"idValue\": sedol\n",
    "        }\n",
    "    ]\n",
    "    try:\n",
    "        response = requests.post(url, json=payload, headers=headers)\n",
    "        response.raise_for_status()\n",
    "        data = response.json()\n",
    "        return data\n",
    "    except requests.exceptions.RequestException as e:\n",
    "        print(f\"An error occurred: {e}\")\n",
    "        return None\n",
    "    \n",
    "sedol = \"BFX05H3\"\n",
    "\n",
    "sedol_result = query_openfigi_by_sedol(api_key, sedol)\n",
    "if sedol_result:\n",
    "    print(sedol_result)"
   ]
  },
  {
   "cell_type": "code",
   "execution_count": 9,
   "metadata": {},
   "outputs": [
    {
     "data": {
      "text/plain": [
       "{'figi': 'BBG000BF9DG8',\n",
       " 'name': 'ABSA GROUP LTD',\n",
       " 'ticker': 'ABG',\n",
       " 'exchCode': 'SJ',\n",
       " 'compositeFIGI': 'BBG000BF9C25',\n",
       " 'securityType': 'Common Stock',\n",
       " 'marketSector': 'Equity',\n",
       " 'shareClassFIGI': 'BBG001S7JF34',\n",
       " 'securityType2': 'Common Stock',\n",
       " 'securityDescription': 'ABG'}"
      ]
     },
     "metadata": {},
     "output_type": "display_data"
    },
    {
     "data": {
      "text/plain": [
       "'BBG000BF9DG8'"
      ]
     },
     "metadata": {},
     "output_type": "display_data"
    }
   ],
   "source": [
    "display(sedol_result[0]['data'][0])\n",
    "display(sedol_result[0]['data'][0]['figi'])"
   ]
  },
  {
   "cell_type": "code",
   "execution_count": 10,
   "metadata": {},
   "outputs": [
    {
     "name": "stdout",
     "output_type": "stream",
     "text": [
      "[{'data': [{'figi': 'BBG000BF9DG8', 'name': 'ABSA GROUP LTD', 'ticker': 'ABG', 'exchCode': 'SJ', 'compositeFIGI': 'BBG000BF9C25', 'securityType': 'Common Stock', 'marketSector': 'Equity', 'shareClassFIGI': 'BBG001S7JF34', 'securityType2': 'Common Stock', 'securityDescription': 'ABG'}, {'figi': 'BBG000BPWSQ6', 'name': 'ABSA GROUP LTD', 'ticker': 'AU61', 'exchCode': 'GR', 'compositeFIGI': 'BBG000BPWSQ6', 'securityType': 'Common Stock', 'marketSector': 'Equity', 'shareClassFIGI': 'BBG001S7JF34', 'securityType2': 'Common Stock', 'securityDescription': 'AU61'}, {'figi': 'BBG000BPWSX8', 'name': 'ABSA GROUP LTD', 'ticker': 'AU61', 'exchCode': 'GF', 'compositeFIGI': 'BBG000BPWSQ6', 'securityType': 'Common Stock', 'marketSector': 'Equity', 'shareClassFIGI': 'BBG001S7JF34', 'securityType2': 'Common Stock', 'securityDescription': 'AU61'}, {'figi': 'BBG000BPWTN7', 'name': 'ABSA GROUP LTD', 'ticker': 'AU61', 'exchCode': 'GD', 'compositeFIGI': 'BBG000BPWSQ6', 'securityType': 'Common Stock', 'marketSector': 'Equity', 'shareClassFIGI': 'BBG001S7JF34', 'securityType2': 'Common Stock', 'securityDescription': 'AU61'}, {'figi': 'BBG000BPWVV3', 'name': 'ABSA GROUP LTD', 'ticker': 'AU61', 'exchCode': 'GS', 'compositeFIGI': 'BBG000BPWSQ6', 'securityType': 'Common Stock', 'marketSector': 'Equity', 'shareClassFIGI': 'BBG001S7JF34', 'securityType2': 'Common Stock', 'securityDescription': 'AU61'}, {'figi': 'BBG000BPWWF9', 'name': 'ABSA GROUP LTD', 'ticker': 'AU61', 'exchCode': 'GM', 'compositeFIGI': 'BBG000BPWSQ6', 'securityType': 'Common Stock', 'marketSector': 'Equity', 'shareClassFIGI': 'BBG001S7JF34', 'securityType2': 'Common Stock', 'securityDescription': 'AU61'}, {'figi': 'BBG000BPWX58', 'name': 'ABSA GROUP LTD', 'ticker': 'AU61', 'exchCode': 'GB', 'compositeFIGI': 'BBG000BPWSQ6', 'securityType': 'Common Stock', 'marketSector': 'Equity', 'shareClassFIGI': 'BBG001S7JF34', 'securityType2': 'Common Stock', 'securityDescription': 'AU61'}, {'figi': 'BBG000BPWY92', 'name': 'ABSA GROUP LTD', 'ticker': 'AU61', 'exchCode': 'GI', 'compositeFIGI': 'BBG000BPWSQ6', 'securityType': 'Common Stock', 'marketSector': 'Equity', 'shareClassFIGI': 'BBG001S7JF34', 'securityType2': 'Common Stock', 'securityDescription': 'AU61'}, {'figi': 'BBG000DDNDC9', 'name': 'ABSA GROUP LTD', 'ticker': 'BGA2', 'exchCode': 'EO', 'compositeFIGI': 'BBG000DDNDC9', 'securityType': 'Common Stock', 'marketSector': 'Equity', 'shareClassFIGI': 'BBG001S7JF34', 'securityType2': 'Common Stock', 'securityDescription': 'BGA2'}, {'figi': 'BBG000DDQVM5', 'name': 'ABSA GROUP LTD', 'ticker': 'BGA2', 'exchCode': 'E1', 'compositeFIGI': 'BBG000DDNDC9', 'securityType': 'Common Stock', 'marketSector': 'Equity', 'shareClassFIGI': 'BBG001S7JF34', 'securityType2': 'Common Stock', 'securityDescription': 'BGA2'}, {'figi': 'BBG000DDQW43', 'name': 'ABSA GROUP LTD', 'ticker': 'BGA2', 'exchCode': 'XT', 'compositeFIGI': 'BBG000DDNDC9', 'securityType': 'Common Stock', 'marketSector': 'Equity', 'shareClassFIGI': 'BBG001S7JF34', 'securityType2': 'Common Stock', 'securityDescription': 'BGA2'}, {'figi': 'BBG000DDQX14', 'name': 'ABSA GROUP LTD', 'ticker': 'BGA2', 'exchCode': 'XW', 'compositeFIGI': 'BBG000DDNDC9', 'securityType': 'Common Stock', 'marketSector': 'Equity', 'shareClassFIGI': 'BBG001S7JF34', 'securityType2': 'Common Stock', 'securityDescription': 'BGA2'}, {'figi': 'BBG000F05VF2', 'name': 'ABSA GROUP LTD', 'ticker': 'BGA2EUR', 'exchCode': 'EO', 'compositeFIGI': 'BBG000F05VF2', 'securityType': 'Common Stock', 'marketSector': 'Equity', 'shareClassFIGI': 'BBG001S7JF34', 'securityType2': 'Common Stock', 'securityDescription': 'BGA2EUR'}, {'figi': 'BBG000F079M1', 'name': 'ABSA GROUP LTD', 'ticker': 'BGA2EUR', 'exchCode': 'E1', 'compositeFIGI': 'BBG000F05VF2', 'securityType': 'Common Stock', 'marketSector': 'Equity', 'shareClassFIGI': 'BBG001S7JF34', 'securityType2': 'Common Stock', 'securityDescription': 'BGA2EUR'}, {'figi': 'BBG000F07B19', 'name': 'ABSA GROUP LTD', 'ticker': 'BGA2EUR', 'exchCode': 'XT', 'compositeFIGI': 'BBG000F05VF2', 'securityType': 'Common Stock', 'marketSector': 'Equity', 'shareClassFIGI': 'BBG001S7JF34', 'securityType2': 'Common Stock', 'securityDescription': 'BGA2EUR'}, {'figi': 'BBG000F07BK8', 'name': 'ABSA GROUP LTD', 'ticker': 'BGA2EUR', 'exchCode': 'XW', 'compositeFIGI': 'BBG000F05VF2', 'securityType': 'Common Stock', 'marketSector': 'Equity', 'shareClassFIGI': 'BBG001S7JF34', 'securityType2': 'Common Stock', 'securityDescription': 'BGA2EUR'}, {'figi': 'BBG0047F4ZK6', 'name': 'ABSA GROUP LTD', 'ticker': 'AGRPF', 'exchCode': 'US', 'compositeFIGI': 'BBG0047F4ZK6', 'securityType': 'Common Stock', 'marketSector': 'Equity', 'shareClassFIGI': 'BBG001S7JF34', 'securityType2': 'Common Stock', 'securityDescription': 'AGRPF'}, {'figi': 'BBG0047F4ZZ0', 'name': 'ABSA GROUP LTD', 'ticker': 'AGRPF', 'exchCode': 'PQ', 'compositeFIGI': 'BBG0047F4ZK6', 'securityType': 'Common Stock', 'marketSector': 'Equity', 'shareClassFIGI': 'BBG001S7JF34', 'securityType2': 'Common Stock', 'securityDescription': 'AGRPF'}, {'figi': 'BBG0047F5013', 'name': 'ABSA GROUP LTD', 'ticker': 'AGRPF', 'exchCode': 'UV', 'compositeFIGI': 'BBG0047F4ZK6', 'securityType': 'Common Stock', 'marketSector': 'Equity', 'shareClassFIGI': 'BBG001S7JF34', 'securityType2': 'Common Stock', 'securityDescription': 'AGRPF'}, {'figi': 'BBG005917NT7', 'name': 'ABSA GROUP LTD', 'ticker': 'BGA2', 'exchCode': 'XV', 'compositeFIGI': 'BBG000DDNDC9', 'securityType': 'Common Stock', 'marketSector': 'Equity', 'shareClassFIGI': 'BBG001S7JF34', 'securityType2': 'Common Stock', 'securityDescription': 'BGA2'}, {'figi': 'BBG005918TG7', 'name': 'ABSA GROUP LTD', 'ticker': 'BGA2EUR', 'exchCode': 'XV', 'compositeFIGI': 'BBG000F05VF2', 'securityType': 'Common Stock', 'marketSector': 'Equity', 'shareClassFIGI': 'BBG001S7JF34', 'securityType2': 'Common Stock', 'securityDescription': 'BGA2EUR'}, {'figi': 'BBG00JN759X6', 'name': 'ABSA GROUP LTD', 'ticker': 'BGA2', 'exchCode': 'XX', 'compositeFIGI': 'BBG000DDNDC9', 'securityType': 'Common Stock', 'marketSector': 'Equity', 'shareClassFIGI': 'BBG001S7JF34', 'securityType2': 'Common Stock', 'securityDescription': 'BGA2'}, {'figi': 'BBG00JN76GF9', 'name': 'ABSA GROUP LTD', 'ticker': 'BGA2EUR', 'exchCode': 'XX', 'compositeFIGI': 'BBG000F05VF2', 'securityType': 'Common Stock', 'marketSector': 'Equity', 'shareClassFIGI': 'BBG001S7JF34', 'securityType2': 'Common Stock', 'securityDescription': 'BGA2EUR'}, {'figi': 'BBG00JPWC9C4', 'name': 'ABSA GROUP LTD', 'ticker': 'BGA2', 'exchCode': 'EU', 'compositeFIGI': 'BBG00JPWC9B5', 'securityType': 'Common Stock', 'marketSector': 'Equity', 'shareClassFIGI': 'BBG001S7JF34', 'securityType2': 'Common Stock', 'securityDescription': 'BGA2'}, {'figi': 'BBG00JRFKDV0', 'name': 'ABSA GROUP LTD', 'ticker': 'AGBN', 'exchCode': 'L3', 'compositeFIGI': 'BBG00JRFKDT3', 'securityType': 'Common Stock', 'marketSector': 'Equity', 'shareClassFIGI': 'BBG001S7JF34', 'securityType2': 'Common Stock', 'securityDescription': 'AGBN'}, {'figi': 'BBG00JRFR9D2', 'name': 'ABSA GROUP LTD', 'ticker': 'AGBN', 'exchCode': 'B3', 'compositeFIGI': 'BBG00JRFR9C3', 'securityType': 'Common Stock', 'marketSector': 'Equity', 'shareClassFIGI': 'BBG001S7JF34', 'securityType2': 'Common Stock', 'securityDescription': 'AGBN'}, {'figi': 'BBG00JRFX419', 'name': 'ABSA GROUP LTD', 'ticker': 'AGBN', 'exchCode': 'PO', 'compositeFIGI': 'BBG00JRFX400', 'securityType': 'Common Stock', 'marketSector': 'Equity', 'shareClassFIGI': 'BBG001S7JF34', 'securityType2': 'Common Stock', 'securityDescription': 'AGBN'}, {'figi': 'BBG00PQ1KQV9', 'name': 'ABSA GROUP LTD', 'ticker': 'BGA2', 'exchCode': 'EP', 'compositeFIGI': 'BBG00PQ1KQT2', 'securityType': 'Common Stock', 'marketSector': 'Equity', 'shareClassFIGI': 'BBG001S7JF34', 'securityType2': 'Common Stock', 'securityDescription': 'BGA2'}, {'figi': 'BBG00PQ1KQX7', 'name': 'ABSA GROUP LTD', 'ticker': 'BGA2', 'exchCode': 'EZ', 'compositeFIGI': 'BBG00PQ1KQW8', 'securityType': 'Common Stock', 'marketSector': 'Equity', 'shareClassFIGI': 'BBG001S7JF34', 'securityType2': 'Common Stock', 'securityDescription': 'BGA2'}, {'figi': 'BBG00Q6QWXK8', 'name': 'ABSA GROUP LTD', 'ticker': 'BGA2', 'exchCode': 'X2', 'compositeFIGI': 'BBG000DDNDC9', 'securityType': 'Common Stock', 'marketSector': 'Equity', 'shareClassFIGI': 'BBG001S7JF34', 'securityType2': 'Common Stock', 'securityDescription': 'BGA2'}, {'figi': 'BBG0166HPW21', 'name': 'ABSA GROUP LTD', 'ticker': 'AU61', 'exchCode': 'QT', 'compositeFIGI': 'BBG0166HPW12', 'securityType': 'Common Stock', 'marketSector': 'Equity', 'shareClassFIGI': 'BBG001S7JF34', 'securityType2': 'Common Stock', 'securityDescription': 'AU61'}, {'figi': 'BBG0168FQL62', 'name': 'ABSA GROUP LTD', 'ticker': 'BGA2EUR', 'exchCode': 'EU', 'compositeFIGI': 'BBG0168FQL53', 'securityType': 'Common Stock', 'marketSector': 'Equity', 'shareClassFIGI': 'BBG001S7JF34', 'securityType2': 'Common Stock', 'securityDescription': 'BGA2EUR'}, {'figi': 'BBG01JNQQ3V5', 'name': 'ABSA GROUP LTD', 'ticker': 'AU61', 'exchCode': 'GZ', 'compositeFIGI': 'BBG01JNQQ3T8', 'securityType': 'Common Stock', 'marketSector': 'Equity', 'shareClassFIGI': 'BBG001S7JF34', 'securityType2': 'Common Stock', 'securityDescription': 'AU61'}]}]\n"
     ]
    }
   ],
   "source": [
    "def query_openfigi_by_isin(api_key, isin):\n",
    "    url = \"https://api.openfigi.com/v3/mapping\"\n",
    "    headers = {\n",
    "        'Content-Type': 'application/json',\n",
    "        'X-OPENFIGI-APIKEY': api_key\n",
    "    }\n",
    "    payload = [\n",
    "        {\n",
    "            \"idType\": \"ID_ISIN\",\n",
    "            \"idValue\": isin\n",
    "        }\n",
    "    ]\n",
    "    try:\n",
    "        response = requests.post(url, json=payload, headers=headers)\n",
    "        response.raise_for_status()\n",
    "        data = response.json()\n",
    "        return data\n",
    "    except requests.exceptions.RequestException as e:\n",
    "        print(f\"An error occurred: {e}\")\n",
    "        return None\n",
    "    \n",
    "isin = \"ZAE000255915\"\n",
    "\n",
    "isin_result = query_openfigi_by_isin(api_key, isin)\n",
    "if isin_result:\n",
    "    print(isin_result)"
   ]
  },
  {
   "cell_type": "code",
   "execution_count": 12,
   "metadata": {},
   "outputs": [
    {
     "data": {
      "text/plain": [
       "{'figi': 'BBG000BF9DG8',\n",
       " 'name': 'ABSA GROUP LTD',\n",
       " 'ticker': 'ABG',\n",
       " 'exchCode': 'SJ',\n",
       " 'compositeFIGI': 'BBG000BF9C25',\n",
       " 'securityType': 'Common Stock',\n",
       " 'marketSector': 'Equity',\n",
       " 'shareClassFIGI': 'BBG001S7JF34',\n",
       " 'securityType2': 'Common Stock',\n",
       " 'securityDescription': 'ABG'}"
      ]
     },
     "metadata": {},
     "output_type": "display_data"
    },
    {
     "data": {
      "text/plain": [
       "'BBG000BF9DG8'"
      ]
     },
     "metadata": {},
     "output_type": "display_data"
    },
    {
     "data": {
      "text/plain": [
       "'BBG000BF9DG8'"
      ]
     },
     "metadata": {},
     "output_type": "display_data"
    },
    {
     "data": {
      "text/plain": [
       "True"
      ]
     },
     "metadata": {},
     "output_type": "display_data"
    }
   ],
   "source": [
    "display(isin_result[0]['data'][0])\n",
    "display(isin_result[0]['data'][0]['figi'])\n",
    "display(sedol_result[0]['data'][0]['figi'])\n",
    "display(sedol_result[0]['data'][0]['figi'] == isin_result[0]['data'][0]['figi'])"
   ]
  },
  {
   "cell_type": "code",
   "execution_count": 32,
   "metadata": {},
   "outputs": [
    {
     "data": {
      "application/vnd.jupyter.widget-view+json": {
       "model_id": "9a28345c8567497ca6940c244f5ebc4c",
       "version_major": 2,
       "version_minor": 0
      },
      "text/plain": [
       "Text(value='', description='SEDOL:', placeholder='Enter a SEDOL')"
      ]
     },
     "metadata": {},
     "output_type": "display_data"
    },
    {
     "data": {
      "application/vnd.jupyter.widget-view+json": {
       "model_id": "cf106516039f4b2c85967bc872347543",
       "version_major": 2,
       "version_minor": 0
      },
      "text/plain": [
       "Text(value='', description='ISIN:', placeholder='Enter an ISIN')"
      ]
     },
     "metadata": {},
     "output_type": "display_data"
    },
    {
     "data": {
      "application/vnd.jupyter.widget-view+json": {
       "model_id": "fab0806b14224983b81e9db7867435ec",
       "version_major": 2,
       "version_minor": 0
      },
      "text/plain": [
       "Text(value='', description='FIGI:', placeholder='')"
      ]
     },
     "metadata": {},
     "output_type": "display_data"
    },
    {
     "data": {
      "application/vnd.jupyter.widget-view+json": {
       "model_id": "22ed10c3859d4431aad1a3729c6b26bd",
       "version_major": 2,
       "version_minor": 0
      },
      "text/plain": [
       "Button(description='Click Me', disabled=True, icon='check', style=ButtonStyle(), tooltip='Click me')"
      ]
     },
     "metadata": {},
     "output_type": "display_data"
    },
    {
     "name": "stdout",
     "output_type": "stream",
     "text": [
      "1 1 1\n"
     ]
    }
   ],
   "source": [
    "import ipywidgets as widgets\n",
    "from IPython.display import display\n",
    "\n",
    "\n",
    "sedol_in = widgets.Text(\n",
    "    description=\"SEDOL:\",\n",
    "    placeholder=\"Enter a SEDOL\"\n",
    ")\n",
    "\n",
    "isin_in = widgets.Text(\n",
    "    description=\"ISIN:\",\n",
    "    placeholder=\"Enter an ISIN\"\n",
    ")\n",
    "\n",
    "figi_out = widgets.Text(\n",
    "    description=\"FIGI:\",\n",
    "    placeholder=\"\"\n",
    ")\n",
    "\n",
    "button = widgets.Button(\n",
    "    description=\"Click Me\",\n",
    "    button_style='',  # Options: 'primary', 'success', 'info', 'warning', 'danger'\n",
    "    tooltip=\"Click me\",\n",
    "    icon='check',  # FontAwesome icon, e.g., 'check', 'plus', 'trash'\n",
    "    disabled=True\n",
    ")\n",
    "\n",
    "sedol = \"\"\n",
    "isin = \"\"\n",
    "figi = \"\"\n",
    "\n",
    "def on_submit_sedol(change):\n",
    "    global sedol\n",
    "    global isin\n",
    "    global figi\n",
    "    sedol = change['new']\n",
    "\n",
    "    if sedol == isin:\n",
    "        figi_out.value = sedol\n",
    "        figi = sedol\n",
    "        button.disabled=False\n",
    "    else:\n",
    "        figi_out.value = \"No match\"\n",
    "        figi = \"\"\n",
    "        button.disabled=True\n",
    "\n",
    "\n",
    "\n",
    "def on_submit_isin(change):\n",
    "    global sedol\n",
    "    global isin\n",
    "    global figi\n",
    "    isin = change['new']\n",
    "\n",
    "    if sedol == isin:\n",
    "        figi_out.value = sedol\n",
    "        figi = isin\n",
    "        button.disabled=False\n",
    "    else:\n",
    "        figi_out.value = \"No match\"\n",
    "        figi = \"\"\n",
    "        button.disabled=True\n",
    "\n",
    "\n",
    "\n",
    "def on_button_click(b):\n",
    "    global sedol\n",
    "    global isin\n",
    "    global figi\n",
    "    print(sedol, isin, figi)\n",
    "\n",
    "# Attach the function to the widgets\n",
    "sedol_in.observe(on_submit_sedol, names='value')\n",
    "isin_in.observe(on_submit_isin, names='value')\n",
    "button.on_click(on_button_click)\n",
    "\n",
    "# Display the widget\n",
    "display(sedol_in)\n",
    "display(isin_in)\n",
    "display(figi_out)\n",
    "display(button)"
   ]
  },
  {
   "cell_type": "code",
   "execution_count": null,
   "metadata": {},
   "outputs": [],
   "source": []
  }
 ],
 "metadata": {
  "kernelspec": {
   "display_name": "finance-venv",
   "language": "python",
   "name": "python3"
  },
  "language_info": {
   "codemirror_mode": {
    "name": "ipython",
    "version": 3
   },
   "file_extension": ".py",
   "mimetype": "text/x-python",
   "name": "python",
   "nbconvert_exporter": "python",
   "pygments_lexer": "ipython3",
   "version": "3.12.3"
  }
 },
 "nbformat": 4,
 "nbformat_minor": 2
}
