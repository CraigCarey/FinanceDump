{
 "cells": [
  {
   "cell_type": "code",
   "execution_count": null,
   "metadata": {},
   "outputs": [],
   "source": [
    "# pip install --upgrade --no-cache-dir git+https://github.com/rongardF/tvdatafeed.git"
   ]
  },
  {
   "cell_type": "code",
   "execution_count": 2,
   "metadata": {},
   "outputs": [
    {
     "name": "stderr",
     "output_type": "stream",
     "text": [
      "you are using nologin method, data you access may be limited\n"
     ]
    }
   ],
   "source": [
    "from tvDatafeed import TvDatafeed, Interval, TvDatafeedLive\n",
    "\n",
    "username = 'sgccarey@gmail.com'\n",
    "password = 'passiepoos'\n",
    "\n",
    "# tv = TvDatafeed(username, password)\n",
    "# tvl = TvDatafeedLive(username, password)\n",
    "\n",
    "tv = TvDatafeed()"
   ]
  },
  {
   "cell_type": "code",
   "execution_count": 8,
   "metadata": {},
   "outputs": [
    {
     "name": "stdout",
     "output_type": "stream",
     "text": [
      "                        symbol        open        high         low  \\\n",
      "datetime                                                             \n",
      "2020-08-13 05:00:00  ALOR:GMKN  207.874431  211.334006  206.754569   \n",
      "2020-08-14 05:00:00  ALOR:GMKN  208.614340  209.274259  206.074653   \n",
      "2020-08-17 05:00:00  ALOR:GMKN  208.474357  210.954052  205.374739   \n",
      "2020-08-18 05:00:00  ALOR:GMKN  206.874554  209.154274  205.014783   \n",
      "2020-08-19 05:00:00  ALOR:GMKN  207.494478  208.174394  204.474849   \n",
      "...                        ...         ...         ...         ...   \n",
      "2024-08-12 05:00:00  ALOR:GMKN  123.000000  126.080000  122.620000   \n",
      "2024-08-13 05:00:00  ALOR:GMKN  125.300000  129.540000  125.100000   \n",
      "2024-08-14 05:00:00  ALOR:GMKN  127.840000  128.420000  125.380000   \n",
      "2024-08-15 05:00:00  ALOR:GMKN  125.720000  126.200000  124.660000   \n",
      "2024-08-16 05:00:00  ALOR:GMKN  125.020000  127.800000  124.220000   \n",
      "\n",
      "                          close        volume  \n",
      "datetime                                       \n",
      "2020-08-13 05:00:00  209.274259  3.860335e+07  \n",
      "2020-08-14 05:00:00  207.834436  3.472787e+07  \n",
      "2020-08-17 05:00:00  207.074530  2.893096e+07  \n",
      "2020-08-18 05:00:00  207.954421  2.144244e+07  \n",
      "2020-08-19 05:00:00  204.974788  2.863262e+07  \n",
      "...                         ...           ...  \n",
      "2024-08-12 05:00:00  125.700000  6.213060e+06  \n",
      "2024-08-13 05:00:00  127.820000  1.120434e+07  \n",
      "2024-08-14 05:00:00  125.760000  7.540300e+06  \n",
      "2024-08-15 05:00:00  125.120000  3.056410e+06  \n",
      "2024-08-16 05:00:00  125.740000  5.124440e+06  \n",
      "\n",
      "[1000 rows x 6 columns]\n",
      "125.74\n"
     ]
    }
   ],
   "source": [
    "data = tv.get_hist(\n",
    "    # symbol=\"GAZP\", \n",
    "    symbol=\"GMKN\", \n",
    "    exchange=\"ALOR\", \n",
    "    interval=Interval.in_daily, \n",
    "    n_bars=1000\n",
    ")\n",
    "\n",
    "print(data)\n",
    "print(data.iloc[-1].close)"
   ]
  },
  {
   "cell_type": "code",
   "execution_count": 3,
   "metadata": {},
   "outputs": [
    {
     "name": "stdout",
     "output_type": "stream",
     "text": [
      "                            symbol      open      high       low     close  \\\n",
      "datetime                                                                     \n",
      "2020-10-18 23:00:00  FX_IDC:RUBGBP  0.009943  0.009981  0.009888  0.009931   \n",
      "2020-10-19 23:00:00  FX_IDC:RUBGBP  0.009936  0.009987  0.009916  0.009964   \n",
      "2020-10-20 23:00:00  FX_IDC:RUBGBP  0.009977  0.009983  0.009897  0.009897   \n",
      "2020-10-21 23:00:00  FX_IDC:RUBGBP  0.009892  0.009989  0.009849  0.009961   \n",
      "2020-10-22 23:00:00  FX_IDC:RUBGBP  0.009987  0.010062  0.009980  0.010050   \n",
      "...                            ...       ...       ...       ...       ...   \n",
      "2024-08-11 23:00:00  FX_IDC:RUBGBP  0.009006  0.009006  0.008585  0.008585   \n",
      "2024-08-12 23:00:00  FX_IDC:RUBGBP  0.008588  0.008657  0.008353  0.008569   \n",
      "2024-08-13 23:00:00  FX_IDC:RUBGBP  0.008568  0.008828  0.008394  0.008660   \n",
      "2024-08-14 23:00:00  FX_IDC:RUBGBP  0.008660  0.008778  0.008618  0.008727   \n",
      "2024-08-15 23:00:00  FX_IDC:RUBGBP  0.008729  0.008830  0.008616  0.008616   \n",
      "\n",
      "                     volume  \n",
      "datetime                     \n",
      "2020-10-18 23:00:00     0.0  \n",
      "2020-10-19 23:00:00     0.0  \n",
      "2020-10-20 23:00:00     0.0  \n",
      "2020-10-21 23:00:00     0.0  \n",
      "2020-10-22 23:00:00     0.0  \n",
      "...                     ...  \n",
      "2024-08-11 23:00:00     0.0  \n",
      "2024-08-12 23:00:00     0.0  \n",
      "2024-08-13 23:00:00     0.0  \n",
      "2024-08-14 23:00:00     0.0  \n",
      "2024-08-15 23:00:00     0.0  \n",
      "\n",
      "[1000 rows x 6 columns]\n"
     ]
    }
   ],
   "source": [
    "rubgbp_hist = tv.get_hist(\n",
    "    symbol=\"RUBGBP\", \n",
    "    exchange=\"FX_IDC\", \n",
    "    interval=Interval.in_daily, \n",
    "    n_bars=1000\n",
    ")\n",
    "\n",
    "print(rubgbp_hist)"
   ]
  },
  {
   "cell_type": "code",
   "execution_count": 10,
   "metadata": {},
   "outputs": [
    {
     "name": "stdout",
     "output_type": "stream",
     "text": [
      "                        symbol        open        high         low  \\\n",
      "datetime                                                             \n",
      "2021-12-30 04:00:00  ALOR:GMKN  226.252171  229.211807  225.872217   \n",
      "\n",
      "                          close        volume  \n",
      "datetime                                       \n",
      "2021-12-30 04:00:00  228.971836  1.812073e+07  \n",
      "                            symbol      open      high       low     close  \\\n",
      "datetime                                                                     \n",
      "2021-12-30 22:00:00  FX_IDC:RUBGBP  0.009898  0.009951  0.009821  0.009821   \n",
      "\n",
      "                     volume  \n",
      "datetime                     \n",
      "2021-12-30 22:00:00     0.0  \n"
     ]
    }
   ],
   "source": [
    "import pandas as pd\n",
    "\n",
    "# Get the row for a specific date\n",
    "specific_date = '2021-12-30'\n",
    "row = data.loc[specific_date]\n",
    "\n",
    "rubgbp_220225 = rubgbp_hist.loc['2022-02-24']\n",
    "rubgbp_220303 = rubgbp_hist.loc['2022-03-03']\n",
    "rubgbp_211231 = rubgbp_hist.loc['2021-12-30']\n",
    "\n",
    "# rubgbp_hist\n",
    "print(row)\n",
    "# print(rubgbp_220225)\n",
    "# print(rubgbp_220303)\n",
    "print(rubgbp_211231)"
   ]
  }
 ],
 "metadata": {
  "kernelspec": {
   "display_name": "finance-venv",
   "language": "python",
   "name": "python3"
  },
  "language_info": {
   "codemirror_mode": {
    "name": "ipython",
    "version": 3
   },
   "file_extension": ".py",
   "mimetype": "text/x-python",
   "name": "python",
   "nbconvert_exporter": "python",
   "pygments_lexer": "ipython3",
   "version": "3.12.3"
  }
 },
 "nbformat": 4,
 "nbformat_minor": 2
}
