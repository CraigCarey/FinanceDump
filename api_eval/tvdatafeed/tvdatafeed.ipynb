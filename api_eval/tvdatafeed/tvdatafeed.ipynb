{
 "cells": [
  {
   "cell_type": "code",
   "execution_count": null,
   "metadata": {},
   "outputs": [],
   "source": [
    "# pip install --upgrade --no-cache-dir git+https://github.com/rongardF/tvdatafeed.git"
   ]
  },
  {
   "cell_type": "code",
   "execution_count": 2,
   "metadata": {},
   "outputs": [
    {
     "name": "stderr",
     "output_type": "stream",
     "text": [
      "you are using nologin method, data you access may be limited\n"
     ]
    }
   ],
   "source": [
    "from tvDatafeed import TvDatafeed, Interval, TvDatafeedLive\n",
    "\n",
    "username = 'sgccarey@gmail.com'\n",
    "password = 'passiepoos'\n",
    "\n",
    "# tv = TvDatafeed(username, password)\n",
    "# tvl = TvDatafeedLive(username, password)\n",
    "\n",
    "tv = TvDatafeed()"
   ]
  },
  {
   "cell_type": "code",
   "execution_count": 26,
   "metadata": {},
   "outputs": [
    {
     "name": "stdout",
     "output_type": "stream",
     "text": [
      "                        symbol       open       high     low      close  \\\n",
      "datetime                                                                  \n",
      "2020-08-19 05:00:00  ALOR:GAZP  190.48000  191.99001  189.00  189.25999   \n",
      "2020-08-20 05:00:00  ALOR:GAZP  188.78000  188.94000  185.58  186.95000   \n",
      "2020-08-21 05:00:00  ALOR:GAZP  187.25000  187.78999  183.50  184.50999   \n",
      "2020-08-24 05:00:00  ALOR:GAZP  185.39999  187.44000  184.84  187.10001   \n",
      "2020-08-25 05:00:00  ALOR:GAZP  187.45000  187.99001  184.73  186.25000   \n",
      "...                        ...        ...        ...     ...        ...   \n",
      "2024-08-12 05:00:00  ALOR:GAZP  128.39000  129.35000  127.11  128.71000   \n",
      "2024-08-13 05:00:00  ALOR:GAZP  128.72000  130.80000  128.72  130.54000   \n",
      "2024-08-14 05:00:00  ALOR:GAZP  130.80000  131.49000  129.51  129.81000   \n",
      "2024-08-15 05:00:00  ALOR:GAZP  129.99000  130.31000  127.01  127.36000   \n",
      "2024-08-16 05:00:00  ALOR:GAZP  127.60000  128.24000  125.26  126.40000   \n",
      "\n",
      "                         volume  \n",
      "datetime                         \n",
      "2020-08-19 05:00:00  31486780.0  \n",
      "2020-08-20 05:00:00  37700610.0  \n",
      "2020-08-21 05:00:00  67680500.0  \n",
      "2020-08-24 05:00:00  48560080.0  \n",
      "2020-08-25 05:00:00  19562590.0  \n",
      "...                         ...  \n",
      "2024-08-12 05:00:00  25827740.0  \n",
      "2024-08-13 05:00:00  23728630.0  \n",
      "2024-08-14 05:00:00  21640200.0  \n",
      "2024-08-15 05:00:00  25596460.0  \n",
      "2024-08-16 05:00:00  29859170.0  \n",
      "\n",
      "[1000 rows x 6 columns]\n",
      "Empty DataFrame\n",
      "Columns: [symbol, open, high, low, close, volume]\n",
      "Index: []\n",
      "126.4\n"
     ]
    }
   ],
   "source": [
    "data = tv.get_hist(\n",
    "    symbol=\"GAZP\", \n",
    "    # symbol=\"GMKN\", \n",
    "    exchange=\"ALOR\", \n",
    "    interval=Interval.in_daily, \n",
    "    n_bars=1000\n",
    ")\n",
    "\n",
    "print(data)\n",
    "print(data.loc['2021-12-30'])\n",
    "print(data.iloc[-1].close)"
   ]
  },
  {
   "cell_type": "code",
   "execution_count": 29,
   "metadata": {},
   "outputs": [
    {
     "name": "stdout",
     "output_type": "stream",
     "text": [
      "datetime\n",
      "2021-12-30 04:00:00    342.39\n",
      "Name: close, dtype: float64\n"
     ]
    }
   ],
   "source": [
    "# print(data)\n",
    "print(data.loc['2021-12-30'].close)\n",
    "# print(data.iloc[-1].close)"
   ]
  },
  {
   "cell_type": "code",
   "execution_count": 3,
   "metadata": {},
   "outputs": [
    {
     "name": "stdout",
     "output_type": "stream",
     "text": [
      "                            symbol      open      high       low     close  \\\n",
      "datetime                                                                     \n",
      "2020-10-18 23:00:00  FX_IDC:RUBGBP  0.009943  0.009981  0.009888  0.009931   \n",
      "2020-10-19 23:00:00  FX_IDC:RUBGBP  0.009936  0.009987  0.009916  0.009964   \n",
      "2020-10-20 23:00:00  FX_IDC:RUBGBP  0.009977  0.009983  0.009897  0.009897   \n",
      "2020-10-21 23:00:00  FX_IDC:RUBGBP  0.009892  0.009989  0.009849  0.009961   \n",
      "2020-10-22 23:00:00  FX_IDC:RUBGBP  0.009987  0.010062  0.009980  0.010050   \n",
      "...                            ...       ...       ...       ...       ...   \n",
      "2024-08-11 23:00:00  FX_IDC:RUBGBP  0.009006  0.009006  0.008585  0.008585   \n",
      "2024-08-12 23:00:00  FX_IDC:RUBGBP  0.008588  0.008657  0.008353  0.008569   \n",
      "2024-08-13 23:00:00  FX_IDC:RUBGBP  0.008568  0.008828  0.008394  0.008660   \n",
      "2024-08-14 23:00:00  FX_IDC:RUBGBP  0.008660  0.008778  0.008618  0.008727   \n",
      "2024-08-15 23:00:00  FX_IDC:RUBGBP  0.008729  0.008830  0.008616  0.008616   \n",
      "\n",
      "                     volume  \n",
      "datetime                     \n",
      "2020-10-18 23:00:00     0.0  \n",
      "2020-10-19 23:00:00     0.0  \n",
      "2020-10-20 23:00:00     0.0  \n",
      "2020-10-21 23:00:00     0.0  \n",
      "2020-10-22 23:00:00     0.0  \n",
      "...                     ...  \n",
      "2024-08-11 23:00:00     0.0  \n",
      "2024-08-12 23:00:00     0.0  \n",
      "2024-08-13 23:00:00     0.0  \n",
      "2024-08-14 23:00:00     0.0  \n",
      "2024-08-15 23:00:00     0.0  \n",
      "\n",
      "[1000 rows x 6 columns]\n"
     ]
    }
   ],
   "source": [
    "rubgbp_hist = tv.get_hist(\n",
    "    symbol=\"RUBGBP\", \n",
    "    exchange=\"FX_IDC\", \n",
    "    interval=Interval.in_daily, \n",
    "    n_bars=1000\n",
    ")\n",
    "\n",
    "print(rubgbp_hist)"
   ]
  },
  {
   "cell_type": "code",
   "execution_count": 40,
   "metadata": {},
   "outputs": [
    {
     "name": "stdout",
     "output_type": "stream",
     "text": [
      "                        symbol   open   high    low  close    volume\n",
      "datetime                                                            \n",
      "2022-02-25 04:00:00  ALOR:FIXP  328.2  362.0  278.8  288.8  817872.0\n",
      "0.009821\n"
     ]
    }
   ],
   "source": [
    "import pandas as pd\n",
    "\n",
    "pd.set_option('display.max_rows', 20)\n",
    "\n",
    "data\n",
    "\n",
    "# Get the row for a specific date\n",
    "# specific_date = '2021-12-30'\n",
    "# row = data.loc[specific_date]\n",
    "\n",
    "# rubgbp_220225 = rubgbp_hist.loc['2022-02-24']\n",
    "# rubgbp_220303 = rubgbp_hist.loc['2022-03-03']\n",
    "# rubgbp_211231 = rubgbp_hist.loc['2021-12-30']\n",
    "\n",
    "gazp_220225 = data.loc['2022-02-25']\n",
    "rubgbp_211231 = rubgbp_hist.loc['2021-12-30']\n",
    "\n",
    "# # rubgbp_hist\n",
    "print(gazp_220225)\n",
    "print(rubgbp_211231.close.item())"
   ]
  },
  {
   "cell_type": "code",
   "execution_count": 38,
   "metadata": {},
   "outputs": [
    {
     "name": "stdout",
     "output_type": "stream",
     "text": [
      "GAZP, 342.39\n",
      "SBER, 293.49\n",
      "LKOH, 6573.0\n",
      "NVTK, 1719.4\n",
      "ROSN, 598.56357013\n",
      "GMKN, 228.97183618\n",
      "VTBR, 240.68675\n",
      "YDEX, 4569.4\n",
      "MGNT, 5444.0\n",
      "FIVE, 1959.5\n",
      "CHMF, 1604.2\n",
      "NLMK, 217.04\n",
      "SIBN, 544.8\n",
      "TATN, 502.47210031\n",
      "RTKM, 86.6\n",
      "DSKY, 124.74\n",
      "TCSG, 6118.0\n",
      "PLZL, 13085.80460314\n",
      "AFKS, 23.364\n",
      "MDMG, 797.1\n",
      "FIXP, 547.5\n"
     ]
    }
   ],
   "source": [
    "symbols = ['GAZP','SBER','LKOH','NVTK','ROSN','GMKN','VTBR','YDEX','MGNT','FIVE','CHMF','NLMK','SIBN','TATN','RTKM','DSKY','TCSG','PLZL','AFKS','MDMG','FIXP']\n",
    "\n",
    "# for symbol in symbols:\n",
    "#     data = tv.get_hist(\n",
    "#         symbol=symbol, \n",
    "#         exchange=\"ALOR\", \n",
    "#         interval=Interval.in_daily, \n",
    "#         n_bars=800\n",
    "#     )\n",
    "#     print(f\"{symbol}, {data.loc['2021-12-30'].close.item()}\")"
   ]
  }
 ],
 "metadata": {
  "kernelspec": {
   "display_name": "finance-venv",
   "language": "python",
   "name": "python3"
  },
  "language_info": {
   "codemirror_mode": {
    "name": "ipython",
    "version": 3
   },
   "file_extension": ".py",
   "mimetype": "text/x-python",
   "name": "python",
   "nbconvert_exporter": "python",
   "pygments_lexer": "ipython3",
   "version": "3.12.3"
  }
 },
 "nbformat": 4,
 "nbformat_minor": 2
}
