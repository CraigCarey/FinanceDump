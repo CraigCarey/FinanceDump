{
 "cells": [
  {
   "cell_type": "code",
   "execution_count": 1,
   "metadata": {},
   "outputs": [],
   "source": [
    "from dataclasses import dataclass\n",
    "import pickle\n",
    "from datetime import datetime\n",
    "\n",
    "import pandas as pd\n",
    "\n",
    "from selenium import webdriver\n",
    "from selenium.webdriver import ChromeOptions\n",
    "\n",
    "from bs4 import BeautifulSoup"
   ]
  },
  {
   "cell_type": "code",
   "execution_count": 2,
   "metadata": {},
   "outputs": [],
   "source": [
    "@dataclass\n",
    "class InvestmentTrust:\n",
    "    symbol: str\n",
    "    name: str\n",
    "    link: str\n",
    "    tradeable: bool"
   ]
  },
  {
   "cell_type": "code",
   "execution_count": 4,
   "metadata": {},
   "outputs": [],
   "source": [
    "def check_symbol_row(symbol_row):\n",
    "    td_rows = symbol_row.findAll('td')\n",
    "\n",
    "    if len(td_rows) != 4:\n",
    "        return False\n",
    "\n",
    "    td_row_1 = td_rows[0].findAll('td')\n",
    "\n",
    "    return len(td_row_1) == 0\n",
    "\n",
    "\n",
    "def get_symbol_row_data(symbol_row):\n",
    "    symbol_rows = symbol_row.findAll('td')\n",
    "    symbol = symbol_rows[0].text\n",
    "    name = symbol_rows[1].text\n",
    "    link = symbol_rows[1].find('a', href=True)['href']\n",
    "    dealable = symbol_rows[3].text.startswith('\\nDeal')\n",
    "\n",
    "    return symbol, name, link, dealable"
   ]
  },
  {
   "cell_type": "code",
   "execution_count": 42,
   "metadata": {},
   "outputs": [],
   "source": [
    "def get_page_url(offset, search_input):\n",
    "    url = f'https://www.hl.co.uk/shares/investment-trusts/search-for-investment-trusts?offset={offset}&it_search_input={search_input}'\n",
    "\n",
    "    return url\n",
    "\n",
    "def get_page_urls(soup, search_input):\n",
    "    num_pages = 0\n",
    "\n",
    "    for link in soup.findAll('a', href=True):\n",
    "        title = link.get('title')\n",
    "\n",
    "        if not title:\n",
    "            continue\n",
    "\n",
    "        if title.startswith('View page '):\n",
    "            num_pages += 1\n",
    "\n",
    "    num_pages = num_pages // 2\n",
    "    step_size = 50\n",
    "    max_offset = num_pages * step_size\n",
    "\n",
    "    page_urls = [get_page_url(0, search_input)]\n",
    "    offset = step_size\n",
    "    while offset <= max_offset:\n",
    "        url = get_page_url(offset, search_input)\n",
    "        page_urls.append(url)\n",
    "        offset += step_size\n",
    "\n",
    "    return page_urls\n",
    "\n",
    "\n",
    "def get_inv_trust_data(soup, investment_trusts):\n",
    "    table = soup.find('table')\n",
    "    rows = table.find_all('tr')\n",
    "\n",
    "    for symbol_row in rows:\n",
    "        if not check_symbol_row(symbol_row):\n",
    "            continue\n",
    "        \n",
    "        symbol, name, link, dealable = get_symbol_row_data(symbol_row)\n",
    "\n",
    "        found_sym = next((trust for trust in investment_trusts if trust.symbol == symbol), None)\n",
    "\n",
    "        if not found_sym:\n",
    "            investment_trusts.append(InvestmentTrust(symbol, name, link, dealable))"
   ]
  },
  {
   "cell_type": "code",
   "execution_count": 37,
   "metadata": {},
   "outputs": [],
   "source": [
    "options = ChromeOptions()\n",
    "options.add_argument(\"--headless=new\")\n",
    "driver = webdriver.Chrome(options=options)"
   ]
  },
  {
   "cell_type": "code",
   "execution_count": 51,
   "metadata": {},
   "outputs": [],
   "source": [
    "# most frequent letters, give us 351, 374 then 375 results\n",
    "search_inputs = [\"e\", \"a\", \"r\"]\n",
    "page_urls = []\n",
    "investment_trusts = []"
   ]
  },
  {
   "cell_type": "code",
   "execution_count": 52,
   "metadata": {},
   "outputs": [
    {
     "name": "stdout",
     "output_type": "stream",
     "text": [
      "num trusts: 351\n",
      "num trusts: 374\n",
      "num trusts: 375\n"
     ]
    },
    {
     "data": {
      "text/plain": [
       "['https://www.hl.co.uk/shares/investment-trusts/search-for-investment-trusts?offset=0&it_search_input=e',\n",
       " 'https://www.hl.co.uk/shares/investment-trusts/search-for-investment-trusts?offset=50&it_search_input=e',\n",
       " 'https://www.hl.co.uk/shares/investment-trusts/search-for-investment-trusts?offset=100&it_search_input=e',\n",
       " 'https://www.hl.co.uk/shares/investment-trusts/search-for-investment-trusts?offset=150&it_search_input=e',\n",
       " 'https://www.hl.co.uk/shares/investment-trusts/search-for-investment-trusts?offset=200&it_search_input=e',\n",
       " 'https://www.hl.co.uk/shares/investment-trusts/search-for-investment-trusts?offset=250&it_search_input=e',\n",
       " 'https://www.hl.co.uk/shares/investment-trusts/search-for-investment-trusts?offset=300&it_search_input=e',\n",
       " 'https://www.hl.co.uk/shares/investment-trusts/search-for-investment-trusts?offset=350&it_search_input=e',\n",
       " 'https://www.hl.co.uk/shares/investment-trusts/search-for-investment-trusts?offset=0&it_search_input=a',\n",
       " 'https://www.hl.co.uk/shares/investment-trusts/search-for-investment-trusts?offset=50&it_search_input=a',\n",
       " 'https://www.hl.co.uk/shares/investment-trusts/search-for-investment-trusts?offset=100&it_search_input=a',\n",
       " 'https://www.hl.co.uk/shares/investment-trusts/search-for-investment-trusts?offset=150&it_search_input=a',\n",
       " 'https://www.hl.co.uk/shares/investment-trusts/search-for-investment-trusts?offset=200&it_search_input=a',\n",
       " 'https://www.hl.co.uk/shares/investment-trusts/search-for-investment-trusts?offset=250&it_search_input=a',\n",
       " 'https://www.hl.co.uk/shares/investment-trusts/search-for-investment-trusts?offset=300&it_search_input=a',\n",
       " 'https://www.hl.co.uk/shares/investment-trusts/search-for-investment-trusts?offset=0&it_search_input=r',\n",
       " 'https://www.hl.co.uk/shares/investment-trusts/search-for-investment-trusts?offset=50&it_search_input=r',\n",
       " 'https://www.hl.co.uk/shares/investment-trusts/search-for-investment-trusts?offset=100&it_search_input=r',\n",
       " 'https://www.hl.co.uk/shares/investment-trusts/search-for-investment-trusts?offset=150&it_search_input=r',\n",
       " 'https://www.hl.co.uk/shares/investment-trusts/search-for-investment-trusts?offset=200&it_search_input=r',\n",
       " 'https://www.hl.co.uk/shares/investment-trusts/search-for-investment-trusts?offset=250&it_search_input=r',\n",
       " 'https://www.hl.co.uk/shares/investment-trusts/search-for-investment-trusts?offset=300&it_search_input=r',\n",
       " 'https://www.hl.co.uk/shares/investment-trusts/search-for-investment-trusts?offset=350&it_search_input=r']"
      ]
     },
     "execution_count": 52,
     "metadata": {},
     "output_type": "execute_result"
    }
   ],
   "source": [
    "for search_input in search_inputs:\n",
    "\n",
    "    # Get page 1, so we can determine how many other pages there are\n",
    "    url = get_page_url(0, search_input)\n",
    "    driver.get(url)\n",
    "    soup = BeautifulSoup(driver.page_source, 'lxml')\n",
    "\n",
    "    # Generate URLs for the other pages\n",
    "    page_urls += get_page_urls(soup, search_input)\n",
    "\n",
    "    for page_url in page_urls:\n",
    "        # print(page_url)\n",
    "        driver.get(page_url)\n",
    "        page_soup = BeautifulSoup(driver.page_source, 'lxml')\n",
    "\n",
    "        get_inv_trust_data(page_soup, investment_trusts)\n",
    "\n",
    "    print(f\"num trusts: {len(investment_trusts)}\")\n",
    "\n",
    "page_urls"
   ]
  },
  {
   "cell_type": "code",
   "execution_count": 43,
   "metadata": {},
   "outputs": [
    {
     "name": "stdout",
     "output_type": "stream",
     "text": [
      "https://www.hl.co.uk/shares/investment-trusts/search-for-investment-trusts?offset=0&it_search_input=q\n",
      "https://www.hl.co.uk/shares/investment-trusts/search-for-investment-trusts?offset=0&it_search_input=x\n"
     ]
    }
   ],
   "source": [
    "for page_url in page_urls:\n",
    "    print(page_url)\n",
    "    driver.get(page_url)\n",
    "    page_soup = BeautifulSoup(driver.page_source, 'lxml')\n",
    "\n",
    "    get_inv_trust_data(page_soup, investment_trusts)"
   ]
  },
  {
   "cell_type": "code",
   "execution_count": 45,
   "metadata": {},
   "outputs": [
    {
     "data": {
      "text/plain": [
       "[InvestmentTrust(symbol='AEI', name='Abrdn Equity Income Trust plc', link='https://www.hl.co.uk/shares/shares-search-results/0603959', tradeable=True),\n",
       " InvestmentTrust(symbol='ALF', name='Alternative Liquidity Fund Ltd', link='https://www.hl.co.uk/shares/shares-search-results/BYRGPD6', tradeable=False),\n",
       " InvestmentTrust(symbol='AEET', name='Aquila Energy Efficiency Trust plc', link='https://www.hl.co.uk/shares/shares-search-results/BN6JYS7', tradeable=True),\n",
       " InvestmentTrust(symbol='AERS', name='Aquila European Renewables plc', link='https://www.hl.co.uk/shares/shares-search-results/BJMXQK1', tradeable=True),\n",
       " InvestmentTrust(symbol='AIE', name='Ashoka India Equity Inv Trust Plc', link='https://www.hl.co.uk/shares/shares-search-results/BF50VS4', tradeable=True),\n",
       " InvestmentTrust(symbol='CYN', name='CQS Natural Resources Growth and Income plc', link='https://www.hl.co.uk/shares/shares-search-results/0035392', tradeable=True),\n",
       " InvestmentTrust(symbol='NCYF', name='CQS New City High Yield Fund Ltd', link='https://www.hl.co.uk/shares/shares-search-results/B1LZS51', tradeable=True),\n",
       " InvestmentTrust(symbol='CTPE', name='CT Private Equity Trust Plc', link='https://www.hl.co.uk/shares/shares-search-results/3073827', tradeable=True),\n",
       " InvestmentTrust(symbol='HVPE', name='Harbourvest Global Private Equity', link='https://www.hl.co.uk/shares/shares-search-results/BR30MJ8', tradeable=True),\n",
       " InvestmentTrust(symbol='IGET', name='Invesco Global Equity Income Trust plc', link='https://www.hl.co.uk/shares/shares-search-results/B1DQ647', tradeable=True),\n",
       " InvestmentTrust(symbol='JPEL', name='JPEL Private Equity Limited', link='https://www.hl.co.uk/shares/shares-search-results/BS82YQ7', tradeable=False),\n",
       " InvestmentTrust(symbol='NBPE', name='NB Private Equity Partners Ltd', link='https://www.hl.co.uk/shares/shares-search-results/B28ZZX8', tradeable=True),\n",
       " InvestmentTrust(symbol='PEY', name='Partners Group Private Equity', link='https://www.hl.co.uk/shares/shares-search-results/B28C2R2', tradeable=True),\n",
       " InvestmentTrust(symbol='PPET', name='Patria Private Equity Trust Plc', link='https://www.hl.co.uk/shares/shares-search-results/3047468', tradeable=True),\n",
       " InvestmentTrust(symbol='PSH', name='Pershing Square Holdings Ltd', link='https://www.hl.co.uk/shares/shares-search-results/BS7JCJ8', tradeable=True),\n",
       " InvestmentTrust(symbol='PEYS', name='Princess Private Equity Holdings', link='https://www.hl.co.uk/shares/shares-search-results/BF012D4', tradeable=True),\n",
       " InvestmentTrust(symbol='SEQI', name='Sequoia Economic Infrastructure Income Fund Ltd', link='https://www.hl.co.uk/shares/shares-search-results/BV54HY6', tradeable=True),\n",
       " InvestmentTrust(symbol='SEC', name='Strategic Equity Capital plc', link='https://www.hl.co.uk/shares/shares-search-results/B0BDCB2', tradeable=True),\n",
       " InvestmentTrust(symbol='APAX', name='Apax Global Alpha Limited', link='https://www.hl.co.uk/shares/shares-search-results/BWWYMV8', tradeable=True),\n",
       " InvestmentTrust(symbol='IEM', name='Impax Environmental Markets plc', link='https://www.hl.co.uk/shares/shares-search-results/3123249', tradeable=True),\n",
       " InvestmentTrust(symbol='NBDX', name='NB Distressed Debt Investment Fund Ltd', link='https://www.hl.co.uk/shares/shares-search-results/BR88RQ9', tradeable=False),\n",
       " InvestmentTrust(symbol='NESF', name='NextEnergy Solar Fund Ltd', link='https://www.hl.co.uk/shares/shares-search-results/BJ0JVY0', tradeable=True),\n",
       " InvestmentTrust(symbol='OIG', name='Oryx International Growth Fund', link='https://www.hl.co.uk/shares/shares-search-results/B3BTVQ9', tradeable=True),\n",
       " InvestmentTrust(symbol='OT1', name='Oxford Technology 2', link='https://www.hl.co.uk/shares/shares-search-results/BN73FM9', tradeable=False),\n",
       " InvestmentTrust(symbol='OT3', name='Oxford Technology 2', link='https://www.hl.co.uk/shares/shares-search-results/BN73FN0', tradeable=False),\n",
       " InvestmentTrust(symbol='OT4', name='Oxford Technology 2', link='https://www.hl.co.uk/shares/shares-search-results/BN73FP2', tradeable=False),\n",
       " InvestmentTrust(symbol='OXH', name='Oxford Technology 2 VCT plc', link='https://www.hl.co.uk/shares/shares-search-results/0310505', tradeable=False),\n",
       " InvestmentTrust(symbol='PSDL', name='Phoenix Spree Deutschland Ltd', link='https://www.hl.co.uk/shares/shares-search-results/BVG2VP8', tradeable=True),\n",
       " InvestmentTrust(symbol='BBOX', name='Tritax Big Box REIT plc', link='https://www.hl.co.uk/shares/shares-search-results/BG49KP9', tradeable=True),\n",
       " InvestmentTrust(symbol='EBOX', name='Tritax Eurobox Plc', link='https://www.hl.co.uk/shares/shares-search-results/BG382L7', tradeable=True),\n",
       " InvestmentTrust(symbol='VIP', name='Value and Indexed Property Income Trust', link='https://www.hl.co.uk/shares/shares-search-results/0848471', tradeable=True)]"
      ]
     },
     "execution_count": 45,
     "metadata": {},
     "output_type": "execute_result"
    }
   ],
   "source": [
    "investment_trusts"
   ]
  }
 ],
 "metadata": {
  "kernelspec": {
   "display_name": "finance-venv",
   "language": "python",
   "name": "python3"
  },
  "language_info": {
   "codemirror_mode": {
    "name": "ipython",
    "version": 3
   },
   "file_extension": ".py",
   "mimetype": "text/x-python",
   "name": "python",
   "nbconvert_exporter": "python",
   "pygments_lexer": "ipython3",
   "version": "3.12.3"
  }
 },
 "nbformat": 4,
 "nbformat_minor": 2
}
