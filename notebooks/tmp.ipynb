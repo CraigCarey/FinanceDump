{
 "cells": [
  {
   "cell_type": "code",
   "execution_count": 1,
   "metadata": {},
   "outputs": [],
   "source": [
    "import pickle\n",
    "from urllib.request import urlopen\n",
    "import certifi\n",
    "import json\n",
    "import pandas as pd\n",
    "from datetime import datetime\n",
    "import json\n",
    "import queue\n",
    "import threading\n",
    "\n",
    "import fundamentalanalysis as fa\n",
    "import fa_mods as famods\n",
    "import fa_utils\n",
    "\n",
    "with open('/home/craigc/.keys/financialmodelingprep.txt', 'r') as file:\n",
    "    api_key = file.read()"
   ]
  },
  {
   "cell_type": "code",
   "execution_count": null,
   "metadata": {},
   "outputs": [],
   "source": [
    "ticker = 'POLY.L'\n",
    "\n"
   ]
  }
 ],
 "metadata": {
  "kernelspec": {
   "display_name": "fintech-nb-venv",
   "language": "python",
   "name": "python3"
  },
  "language_info": {
   "codemirror_mode": {
    "name": "ipython",
    "version": 3
   },
   "file_extension": ".py",
   "mimetype": "text/x-python",
   "name": "python",
   "nbconvert_exporter": "python",
   "pygments_lexer": "ipython3",
   "version": "3.10.6"
  },
  "orig_nbformat": 4,
  "vscode": {
   "interpreter": {
    "hash": "161bb323b90e11c9899af7be07b4c380a7c03bf0e17e1ed36618bfcb5c83301d"
   }
  }
 },
 "nbformat": 4,
 "nbformat_minor": 2
}
