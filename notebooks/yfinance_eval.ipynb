{
 "cells": [
  {
   "attachments": {},
   "cell_type": "markdown",
   "metadata": {},
   "source": [
    "https://zoo.cs.yale.edu/classes/cs458/lectures/yfinance.html"
   ]
  }
 ],
 "metadata": {
  "kernelspec": {
   "display_name": "openbb-venv",
   "language": "python",
   "name": "python3"
  },
  "language_info": {
   "name": "python",
   "version": "3.8.10 (default, Nov 14 2022, 12:59:47) \n[GCC 9.4.0]"
  },
  "orig_nbformat": 4,
  "vscode": {
   "interpreter": {
    "hash": "185e9050c1b2033db9b3b3f0599ccbbaa6be31ddf0c55205e91f5aa368f6bfdd"
   }
  }
 },
 "nbformat": 4,
 "nbformat_minor": 2
}
