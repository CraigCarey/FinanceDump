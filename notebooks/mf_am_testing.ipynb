{
 "cells": [
  {
   "cell_type": "code",
   "execution_count": 2,
   "metadata": {},
   "outputs": [],
   "source": [
    "import fundamentalanalysis as fa\n",
    "\n",
    "with open('/home/craigc/.keys/financialmodelingprep.txt', 'r') as file:\n",
    "    api_key = file.read()"
   ]
  },
  {
   "cell_type": "code",
   "execution_count": 3,
   "metadata": {},
   "outputs": [],
   "source": [
    "# Enterprise Value = Market Cap + Preferred Equity + Non-Controlling Interests + Total Debt - Cash and Equivalents\n",
    "# Operating Earnings (Before Appreciation and Amortization) = Revenue - (Cost of goods sold + Selling, general and administrative costs)\n",
    "# Acquirer's Multiple = Enterprise Value/Operator Earnings"
   ]
  },
  {
   "cell_type": "code",
   "execution_count": 4,
   "metadata": {},
   "outputs": [],
   "source": [
    "ticker = 'MMM'"
   ]
  },
  {
   "cell_type": "code",
   "execution_count": 5,
   "metadata": {},
   "outputs": [],
   "source": [
    "key_metrics_ttm = fa.key_metrics(ticker, api_key, TTM=True)\n",
    "income_statement = fa.income_statement(ticker, api_key, period=\"annual\", limit=1).iloc[:, 0]"
   ]
  },
  {
   "cell_type": "code",
   "execution_count": 6,
   "metadata": {},
   "outputs": [],
   "source": [
    "# MMM Ground Truths from finance.yahoo.com/quote/MMM/financials\n",
    "revenue_yh_gt = 34229000 * 1000\n",
    "cost_of_revenue_yh_gt = 19232000 * 1000\n",
    "gross_profit_yh_gt = 14997000 * 1000\n",
    "operating_expenses_yh_gt = 10911000 * 1000\n",
    "operating_income_yh_gt = 4086000 * 1000\n",
    "enterprise_value_yh_gt = 69830000000\n",
    "ebit_yh_gt = 6854000 * 1000\n",
    "ebitda_yh_gt = 8685000 * 1000\n",
    "depreciation_and_amortization_yh_gt = ebitda_yh_gt - ebit_yh_gt\n",
    "\n",
    "# From acquirersmultiple.com\n",
    "enterprise_value_am_gt = 69549000000\n",
    "operating_income_am_gt = 3941000000\n",
    "acquirers_multiple_am_gt = 17.70"
   ]
  },
  {
   "cell_type": "code",
   "execution_count": 7,
   "metadata": {},
   "outputs": [],
   "source": [
    "def percent_diff(a, b):\n",
    "\n",
    "    diff = abs(a - b)\n",
    "    return diff / a\n",
    "\n",
    "# Determine if two values are within p of each other\n",
    "def assert_approx_equal(a, b, p: float = 0.01):\n",
    "    \n",
    "    diff_p = percent_diff(a, b)\n",
    "\n",
    "    assert(diff_p < p), f\"{a}, {b}, {diff_p} > {p}\""
   ]
  },
  {
   "cell_type": "code",
   "execution_count": 8,
   "metadata": {},
   "outputs": [
    {
     "name": "stdout",
     "output_type": "stream",
     "text": [
      "enterprise_value:         69,917,076,583\n",
      "enterprise_value_yh_gt:   69,830,000,000 (0.00)\n",
      "enterprise_value_am_gt:   69,549,000,000 (0.01)\n",
      "revenue:                  34,229,000,000\n",
      "cost_of_revenue:          19,232,000,000\n",
      "gross_profit:             14,997,000,000\n",
      "operating_expenses:       10,663,000,000\n",
      "operating_expenses_yh_gt: 10,911,000,000 (0.02)\n",
      "operating_income:         4,401,000,000\n",
      "operating_income_yh_gt:   4,086,000,000 (0.07)\n",
      "operating_income_am_gt:   3,941,000,000 (0.10)\n",
      "ebitda:                   6,389,000,000\n",
      "ebitda_yh_gt:             8,685,000,000 (0.36)\n",
      "ebit:                     4,401,000,000\n",
      "ebit_yh_gt:               6,854,000,000 (0.56)\n",
      "acquirers_multiple:       15.00\n",
      "acquirers_multiple_am_gt: 17.70 (0.18)\n"
     ]
    }
   ],
   "source": [
    "# Acquirer's Multiple Calculations\n",
    "\n",
    "enterprise_value = int(key_metrics_ttm['enterpriseValueTTM'])\n",
    "revenue = int(income_statement['revenue'])\n",
    "cost_of_revenue = int(income_statement['costOfRevenue'])\n",
    "gross_profit = int(income_statement['grossProfit'])\n",
    "operating_expenses = int(income_statement['operatingExpenses'])\n",
    "operating_income = int(income_statement['operatingIncome'])\n",
    "ebitda = int(income_statement['ebitda'])\n",
    "depreciation_and_amortization = int(income_statement['depreciationAndAmortization'])\n",
    "ebit = int(ebitda - depreciation_and_amortization)\n",
    "acquirers_multiple = int(enterprise_value / ebit)\n",
    "\n",
    "assert_approx_equal(enterprise_value, enterprise_value_yh_gt)\n",
    "assert_approx_equal(enterprise_value, enterprise_value_am_gt)\n",
    "assert(revenue == revenue_yh_gt)\n",
    "assert(cost_of_revenue == cost_of_revenue_yh_gt)\n",
    "assert(gross_profit == gross_profit_yh_gt)\n",
    "assert(ebit == operating_income)\n",
    "assert_approx_equal(operating_expenses, operating_expenses_yh_gt, 0.03)\n",
    "assert_approx_equal(operating_income, operating_income_yh_gt, 0.08)\n",
    "assert_approx_equal(operating_income, operating_income_am_gt, 0.11)\n",
    "assert_approx_equal(depreciation_and_amortization, depreciation_and_amortization_yh_gt, 0.08)\n",
    "\n",
    "print(f\"enterprise_value:         {enterprise_value:,}\")\n",
    "print(f\"enterprise_value_yh_gt:   {enterprise_value_yh_gt:,} ({percent_diff(enterprise_value, enterprise_value_yh_gt):.2f})\")\n",
    "print(f\"enterprise_value_am_gt:   {enterprise_value_am_gt:,} ({percent_diff(enterprise_value, enterprise_value_am_gt):.2f})\")\n",
    "print(f\"revenue:                  {revenue:,}\")\n",
    "print(f\"cost_of_revenue:          {cost_of_revenue:,}\")\n",
    "print(f\"gross_profit:             {gross_profit_yh_gt:,}\")\n",
    "print(f\"operating_expenses:       {operating_expenses:,}\")\n",
    "print(f\"operating_expenses_yh_gt: {operating_expenses_yh_gt:,} ({percent_diff(operating_expenses, operating_expenses_yh_gt):.2f})\")\n",
    "print(f\"operating_income:         {operating_income:,}\")\n",
    "print(f\"operating_income_yh_gt:   {operating_income_yh_gt:,} ({percent_diff(operating_income, operating_income_yh_gt):.2f})\")\n",
    "print(f\"operating_income_am_gt:   {operating_income_am_gt:,} ({percent_diff(operating_income, operating_income_am_gt):.2f})\")\n",
    "print(f\"ebitda:                   {ebitda:,}\")\n",
    "print(f\"ebitda_yh_gt:             {ebitda_yh_gt:,} ({percent_diff(ebitda, ebitda_yh_gt):.2f})\")\n",
    "print(f\"ebit:                     {ebit:,}\")\n",
    "print(f\"ebit_yh_gt:               {ebit_yh_gt:,} ({percent_diff(ebit, ebit_yh_gt):.2f})\")\n",
    "print(f\"acquirers_multiple:       {acquirers_multiple:.2f}\")\n",
    "print(f\"acquirers_multiple_am_gt: {acquirers_multiple_am_gt:.2f} ({percent_diff(acquirers_multiple, acquirers_multiple_am_gt):.2f})\")"
   ]
  },
  {
   "cell_type": "code",
   "execution_count": 9,
   "metadata": {},
   "outputs": [
    {
     "name": "stdout",
     "output_type": "stream",
     "text": [
      "market_cap:            57,372,076,583.0\n",
      "roic:                  0.1794329002126358\n",
      "earnings_yield:        0.10061494681624013\n"
     ]
    }
   ],
   "source": [
    "# Magic Formula Calculations\n",
    "\n",
    "market_cap = key_metrics_ttm['marketCapTTM']\n",
    "roic =  key_metrics_ttm['roicTTM']\n",
    "earnings_yield =  key_metrics_ttm['earningsYieldTTM']\n",
    "\n",
    "print(f\"market_cap:            {market_cap:,}\")\n",
    "print(f\"roic:                  {roic:,}\")\n",
    "print(f\"earnings_yield:        {earnings_yield:,}\")"
   ]
  }
 ],
 "metadata": {
  "kernelspec": {
   "display_name": "fintech-venv",
   "language": "python",
   "name": "python3"
  },
  "language_info": {
   "codemirror_mode": {
    "name": "ipython",
    "version": 3
   },
   "file_extension": ".py",
   "mimetype": "text/x-python",
   "name": "python",
   "nbconvert_exporter": "python",
   "pygments_lexer": "ipython3",
   "version": "3.8.10"
  },
  "orig_nbformat": 4
 },
 "nbformat": 4,
 "nbformat_minor": 2
}
