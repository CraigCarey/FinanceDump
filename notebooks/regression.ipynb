{
 "cells": [
  {
   "cell_type": "markdown",
   "metadata": {},
   "source": [
    "## Simple Regression Techniques in Python\n",
    "[Linear Regression Model Techniques with Python, NumPy, pandas and Seaborn](https://youtu.be/EMIyRmrPWJQ)"
   ]
  },
  {
   "cell_type": "code",
   "execution_count": 30,
   "metadata": {},
   "outputs": [],
   "source": [
    "import datetime as dt\n",
    "import numpy as np\n",
    "import pandas as pd\n",
    "from pandas_datareader import data as pdr\n",
    "import matplotlib.pyplot as plt\n",
    "import seaborn as sb\n",
    "import yfinance as yfin\n",
    "\n",
    "# copyprogramming.com/howto/remotedataerror-no-data-fetched-using-yahoodailyreader\n",
    "yfin.pdr_override()\n",
    "\n",
    "# Apply the seaborn theme to plots\n",
    "sb.set()"
   ]
  },
  {
   "cell_type": "markdown",
   "metadata": {},
   "source": [
    "### Get Data for SPY and GOOG"
   ]
  },
  {
   "cell_type": "code",
   "execution_count": 9,
   "metadata": {},
   "outputs": [],
   "source": [
    "stocks = \"GOOG SPY\".split()\n",
    "\n",
    "# 1 yr ago\n",
    "start = dt.date.today() - dt.timedelta(365)"
   ]
  },
  {
   "cell_type": "code",
   "execution_count": 12,
   "metadata": {},
   "outputs": [
    {
     "name": "stdout",
     "output_type": "stream",
     "text": [
      "[*********************100%%**********************]  2 of 2 completed\n"
     ]
    },
    {
     "data": {
      "text/html": [
       "<div>\n",
       "<style scoped>\n",
       "    .dataframe tbody tr th:only-of-type {\n",
       "        vertical-align: middle;\n",
       "    }\n",
       "\n",
       "    .dataframe tbody tr th {\n",
       "        vertical-align: top;\n",
       "    }\n",
       "\n",
       "    .dataframe thead tr th {\n",
       "        text-align: left;\n",
       "    }\n",
       "\n",
       "    .dataframe thead tr:last-of-type th {\n",
       "        text-align: right;\n",
       "    }\n",
       "</style>\n",
       "<table border=\"1\" class=\"dataframe\">\n",
       "  <thead>\n",
       "    <tr>\n",
       "      <th></th>\n",
       "      <th colspan=\"2\" halign=\"left\">Adj Close</th>\n",
       "      <th colspan=\"2\" halign=\"left\">Close</th>\n",
       "      <th colspan=\"2\" halign=\"left\">High</th>\n",
       "      <th colspan=\"2\" halign=\"left\">Low</th>\n",
       "      <th colspan=\"2\" halign=\"left\">Open</th>\n",
       "      <th colspan=\"2\" halign=\"left\">Volume</th>\n",
       "    </tr>\n",
       "    <tr>\n",
       "      <th></th>\n",
       "      <th>GOOG</th>\n",
       "      <th>SPY</th>\n",
       "      <th>GOOG</th>\n",
       "      <th>SPY</th>\n",
       "      <th>GOOG</th>\n",
       "      <th>SPY</th>\n",
       "      <th>GOOG</th>\n",
       "      <th>SPY</th>\n",
       "      <th>GOOG</th>\n",
       "      <th>SPY</th>\n",
       "      <th>GOOG</th>\n",
       "      <th>SPY</th>\n",
       "    </tr>\n",
       "    <tr>\n",
       "      <th>Date</th>\n",
       "      <th></th>\n",
       "      <th></th>\n",
       "      <th></th>\n",
       "      <th></th>\n",
       "      <th></th>\n",
       "      <th></th>\n",
       "      <th></th>\n",
       "      <th></th>\n",
       "      <th></th>\n",
       "      <th></th>\n",
       "      <th></th>\n",
       "      <th></th>\n",
       "    </tr>\n",
       "  </thead>\n",
       "  <tbody>\n",
       "    <tr>\n",
       "      <th>2022-12-07</th>\n",
       "      <td>95.150002</td>\n",
       "      <td>387.066711</td>\n",
       "      <td>95.150002</td>\n",
       "      <td>393.160004</td>\n",
       "      <td>97.309998</td>\n",
       "      <td>395.640015</td>\n",
       "      <td>95.025002</td>\n",
       "      <td>391.970001</td>\n",
       "      <td>96.769997</td>\n",
       "      <td>392.940002</td>\n",
       "      <td>26647900</td>\n",
       "      <td>65927900</td>\n",
       "    </tr>\n",
       "    <tr>\n",
       "      <th>2022-12-08</th>\n",
       "      <td>93.949997</td>\n",
       "      <td>390.098969</td>\n",
       "      <td>93.949997</td>\n",
       "      <td>396.239990</td>\n",
       "      <td>95.870003</td>\n",
       "      <td>397.359985</td>\n",
       "      <td>93.800003</td>\n",
       "      <td>393.269989</td>\n",
       "      <td>95.690002</td>\n",
       "      <td>395.140015</td>\n",
       "      <td>25593200</td>\n",
       "      <td>60737900</td>\n",
       "    </tr>\n",
       "    <tr>\n",
       "      <th>2022-12-09</th>\n",
       "      <td>93.070000</td>\n",
       "      <td>387.184845</td>\n",
       "      <td>93.070000</td>\n",
       "      <td>393.279999</td>\n",
       "      <td>94.489998</td>\n",
       "      <td>397.619995</td>\n",
       "      <td>93.019997</td>\n",
       "      <td>393.149994</td>\n",
       "      <td>93.900002</td>\n",
       "      <td>394.940002</td>\n",
       "      <td>21885300</td>\n",
       "      <td>81447700</td>\n",
       "    </tr>\n",
       "    <tr>\n",
       "      <th>2022-12-12</th>\n",
       "      <td>93.559998</td>\n",
       "      <td>392.766968</td>\n",
       "      <td>93.559998</td>\n",
       "      <td>398.950012</td>\n",
       "      <td>93.875000</td>\n",
       "      <td>398.950012</td>\n",
       "      <td>91.900002</td>\n",
       "      <td>393.410004</td>\n",
       "      <td>93.089996</td>\n",
       "      <td>394.109985</td>\n",
       "      <td>27380900</td>\n",
       "      <td>75405800</td>\n",
       "    </tr>\n",
       "    <tr>\n",
       "      <th>2022-12-13</th>\n",
       "      <td>95.849998</td>\n",
       "      <td>395.740173</td>\n",
       "      <td>95.849998</td>\n",
       "      <td>401.970001</td>\n",
       "      <td>99.800003</td>\n",
       "      <td>410.489990</td>\n",
       "      <td>95.379997</td>\n",
       "      <td>399.070007</td>\n",
       "      <td>98.070000</td>\n",
       "      <td>410.220001</td>\n",
       "      <td>34788500</td>\n",
       "      <td>123782500</td>\n",
       "    </tr>\n",
       "  </tbody>\n",
       "</table>\n",
       "</div>"
      ],
      "text/plain": [
       "            Adj Close                  Close                   High  \\\n",
       "                 GOOG         SPY       GOOG         SPY       GOOG   \n",
       "Date                                                                  \n",
       "2022-12-07  95.150002  387.066711  95.150002  393.160004  97.309998   \n",
       "2022-12-08  93.949997  390.098969  93.949997  396.239990  95.870003   \n",
       "2022-12-09  93.070000  387.184845  93.070000  393.279999  94.489998   \n",
       "2022-12-12  93.559998  392.766968  93.559998  398.950012  93.875000   \n",
       "2022-12-13  95.849998  395.740173  95.849998  401.970001  99.800003   \n",
       "\n",
       "                              Low                   Open              \\\n",
       "                   SPY       GOOG         SPY       GOOG         SPY   \n",
       "Date                                                                   \n",
       "2022-12-07  395.640015  95.025002  391.970001  96.769997  392.940002   \n",
       "2022-12-08  397.359985  93.800003  393.269989  95.690002  395.140015   \n",
       "2022-12-09  397.619995  93.019997  393.149994  93.900002  394.940002   \n",
       "2022-12-12  398.950012  91.900002  393.410004  93.089996  394.109985   \n",
       "2022-12-13  410.489990  95.379997  399.070007  98.070000  410.220001   \n",
       "\n",
       "              Volume             \n",
       "                GOOG        SPY  \n",
       "Date                             \n",
       "2022-12-07  26647900   65927900  \n",
       "2022-12-08  25593200   60737900  \n",
       "2022-12-09  21885300   81447700  \n",
       "2022-12-12  27380900   75405800  \n",
       "2022-12-13  34788500  123782500  "
      ]
     },
     "execution_count": 12,
     "metadata": {},
     "output_type": "execute_result"
    }
   ],
   "source": [
    "# hist = ticker.history(period=\"1mo\")\n",
    "data = pdr.get_data_yahoo(stocks, start)\n",
    "data.head()"
   ]
  },
  {
   "cell_type": "code",
   "execution_count": 15,
   "metadata": {},
   "outputs": [
    {
     "data": {
      "text/html": [
       "<div>\n",
       "<style scoped>\n",
       "    .dataframe tbody tr th:only-of-type {\n",
       "        vertical-align: middle;\n",
       "    }\n",
       "\n",
       "    .dataframe tbody tr th {\n",
       "        vertical-align: top;\n",
       "    }\n",
       "\n",
       "    .dataframe thead th {\n",
       "        text-align: right;\n",
       "    }\n",
       "</style>\n",
       "<table border=\"1\" class=\"dataframe\">\n",
       "  <thead>\n",
       "    <tr style=\"text-align: right;\">\n",
       "      <th></th>\n",
       "      <th>GOOG</th>\n",
       "      <th>SPY</th>\n",
       "    </tr>\n",
       "    <tr>\n",
       "      <th>Date</th>\n",
       "      <th></th>\n",
       "      <th></th>\n",
       "    </tr>\n",
       "  </thead>\n",
       "  <tbody>\n",
       "    <tr>\n",
       "      <th>2022-12-07</th>\n",
       "      <td>95.150002</td>\n",
       "      <td>393.160004</td>\n",
       "    </tr>\n",
       "    <tr>\n",
       "      <th>2022-12-08</th>\n",
       "      <td>93.949997</td>\n",
       "      <td>396.239990</td>\n",
       "    </tr>\n",
       "    <tr>\n",
       "      <th>2022-12-09</th>\n",
       "      <td>93.070000</td>\n",
       "      <td>393.279999</td>\n",
       "    </tr>\n",
       "    <tr>\n",
       "      <th>2022-12-12</th>\n",
       "      <td>93.559998</td>\n",
       "      <td>398.950012</td>\n",
       "    </tr>\n",
       "    <tr>\n",
       "      <th>2022-12-13</th>\n",
       "      <td>95.849998</td>\n",
       "      <td>401.970001</td>\n",
       "    </tr>\n",
       "  </tbody>\n",
       "</table>\n",
       "</div>"
      ],
      "text/plain": [
       "                 GOOG         SPY\n",
       "Date                             \n",
       "2022-12-07  95.150002  393.160004\n",
       "2022-12-08  93.949997  396.239990\n",
       "2022-12-09  93.070000  393.279999\n",
       "2022-12-12  93.559998  398.950012\n",
       "2022-12-13  95.849998  401.970001"
      ]
     },
     "execution_count": 15,
     "metadata": {},
     "output_type": "execute_result"
    }
   ],
   "source": [
    "data = data[\"Close\"]\n",
    "data.head()"
   ]
  },
  {
   "cell_type": "code",
   "execution_count": 19,
   "metadata": {},
   "outputs": [
    {
     "data": {
      "text/html": [
       "<div>\n",
       "<style scoped>\n",
       "    .dataframe tbody tr th:only-of-type {\n",
       "        vertical-align: middle;\n",
       "    }\n",
       "\n",
       "    .dataframe tbody tr th {\n",
       "        vertical-align: top;\n",
       "    }\n",
       "\n",
       "    .dataframe thead th {\n",
       "        text-align: right;\n",
       "    }\n",
       "</style>\n",
       "<table border=\"1\" class=\"dataframe\">\n",
       "  <thead>\n",
       "    <tr style=\"text-align: right;\">\n",
       "      <th></th>\n",
       "      <th>GOOG</th>\n",
       "      <th>SPY</th>\n",
       "    </tr>\n",
       "    <tr>\n",
       "      <th>Date</th>\n",
       "      <th></th>\n",
       "      <th></th>\n",
       "    </tr>\n",
       "  </thead>\n",
       "  <tbody>\n",
       "    <tr>\n",
       "      <th>2022-12-08</th>\n",
       "      <td>-0.012692</td>\n",
       "      <td>0.007803</td>\n",
       "    </tr>\n",
       "    <tr>\n",
       "      <th>2022-12-09</th>\n",
       "      <td>-0.009411</td>\n",
       "      <td>-0.007498</td>\n",
       "    </tr>\n",
       "    <tr>\n",
       "      <th>2022-12-12</th>\n",
       "      <td>0.005251</td>\n",
       "      <td>0.014314</td>\n",
       "    </tr>\n",
       "    <tr>\n",
       "      <th>2022-12-13</th>\n",
       "      <td>0.024182</td>\n",
       "      <td>0.007541</td>\n",
       "    </tr>\n",
       "    <tr>\n",
       "      <th>2022-12-14</th>\n",
       "      <td>-0.005650</td>\n",
       "      <td>-0.006414</td>\n",
       "    </tr>\n",
       "  </tbody>\n",
       "</table>\n",
       "</div>"
      ],
      "text/plain": [
       "                GOOG       SPY\n",
       "Date                          \n",
       "2022-12-08 -0.012692  0.007803\n",
       "2022-12-09 -0.009411 -0.007498\n",
       "2022-12-12  0.005251  0.014314\n",
       "2022-12-13  0.024182  0.007541\n",
       "2022-12-14 -0.005650 -0.006414"
      ]
     },
     "execution_count": 19,
     "metadata": {},
     "output_type": "execute_result"
    }
   ],
   "source": [
    "returns = (np.log(data).diff()).dropna()\n",
    "returns.head()"
   ]
  },
  {
   "cell_type": "code",
   "execution_count": 21,
   "metadata": {},
   "outputs": [
    {
     "data": {
      "text/html": [
       "<div>\n",
       "<style scoped>\n",
       "    .dataframe tbody tr th:only-of-type {\n",
       "        vertical-align: middle;\n",
       "    }\n",
       "\n",
       "    .dataframe tbody tr th {\n",
       "        vertical-align: top;\n",
       "    }\n",
       "\n",
       "    .dataframe thead th {\n",
       "        text-align: right;\n",
       "    }\n",
       "</style>\n",
       "<table border=\"1\" class=\"dataframe\">\n",
       "  <thead>\n",
       "    <tr style=\"text-align: right;\">\n",
       "      <th></th>\n",
       "      <th>GOOG</th>\n",
       "      <th>SPY</th>\n",
       "    </tr>\n",
       "  </thead>\n",
       "  <tbody>\n",
       "    <tr>\n",
       "      <th>GOOG</th>\n",
       "      <td>1.000000</td>\n",
       "      <td>0.628552</td>\n",
       "    </tr>\n",
       "    <tr>\n",
       "      <th>SPY</th>\n",
       "      <td>0.628552</td>\n",
       "      <td>1.000000</td>\n",
       "    </tr>\n",
       "  </tbody>\n",
       "</table>\n",
       "</div>"
      ],
      "text/plain": [
       "          GOOG       SPY\n",
       "GOOG  1.000000  0.628552\n",
       "SPY   0.628552  1.000000"
      ]
     },
     "execution_count": 21,
     "metadata": {},
     "output_type": "execute_result"
    }
   ],
   "source": [
    "# Get the correlations\n",
    "returns.corr()"
   ]
  },
  {
   "cell_type": "code",
   "execution_count": 28,
   "metadata": {},
   "outputs": [
    {
     "data": {
      "text/html": [
       "<div>\n",
       "<style scoped>\n",
       "    .dataframe tbody tr th:only-of-type {\n",
       "        vertical-align: middle;\n",
       "    }\n",
       "\n",
       "    .dataframe tbody tr th {\n",
       "        vertical-align: top;\n",
       "    }\n",
       "\n",
       "    .dataframe thead th {\n",
       "        text-align: right;\n",
       "    }\n",
       "</style>\n",
       "<table border=\"1\" class=\"dataframe\">\n",
       "  <thead>\n",
       "    <tr style=\"text-align: right;\">\n",
       "      <th></th>\n",
       "      <th>GOOG</th>\n",
       "      <th>SPY</th>\n",
       "    </tr>\n",
       "  </thead>\n",
       "  <tbody>\n",
       "    <tr>\n",
       "      <th>GOOG</th>\n",
       "      <td>1.000000</td>\n",
       "      <td>0.682822</td>\n",
       "    </tr>\n",
       "    <tr>\n",
       "      <th>SPY</th>\n",
       "      <td>0.682822</td>\n",
       "      <td>1.000000</td>\n",
       "    </tr>\n",
       "  </tbody>\n",
       "</table>\n",
       "</div>"
      ],
      "text/plain": [
       "          GOOG       SPY\n",
       "GOOG  1.000000  0.682822\n",
       "SPY   0.682822  1.000000"
      ]
     },
     "execution_count": 28,
     "metadata": {},
     "output_type": "execute_result"
    }
   ],
   "source": [
    "# Get a random unsorted sample\n",
    "sample = returns.sample(60)\n",
    "sample.corr()"
   ]
  },
  {
   "cell_type": "code",
   "execution_count": 32,
   "metadata": {},
   "outputs": [
    {
     "data": {
      "text/plain": [
       "<matplotlib.collections.PathCollection at 0x7f047e1c3fa0>"
      ]
     },
     "execution_count": 32,
     "metadata": {},
     "output_type": "execute_result"
    },
    {
     "data": {
      "image/png": "[encoded data removed]",
      "text/plain": [
       "<Figure size 640x480 with 1 Axes>"
      ]
     },
     "metadata": {},
     "output_type": "display_data"
    }
   ],
   "source": [
    "plt.scatter(x=sample['SPY'], y=sample['GOOG'])"
   ]
  },
  {
   "cell_type": "code",
   "execution_count": 43,
   "metadata": {},
   "outputs": [
    {
     "data": {
      "text/plain": [
       "array([1.69531027e+00, 5.33713346e-04])"
      ]
     },
     "metadata": {},
     "output_type": "display_data"
    },
    {
     "name": "stdout",
     "output_type": "stream",
     "text": [
      "Intercept at 0.00053\n",
      "Gradient (beta) is 1.70\n",
      "For every 1% SPY changes, GOOG changes by 1.70%\n"
     ]
    }
   ],
   "source": [
    "reg = np.polyfit(sample['SPY'], sample['GOOG'], deg = 1)\n",
    "display(reg)\n",
    "print(f\"Intercept at {reg[1]:.5f}\")\n",
    "print(f\"Gradient (beta) is {reg[0]:.2f}\")\n",
    "print(f\"For every 1% SPY changes, GOOG changes by {reg[0]:.2f}%\")"
   ]
  },
  {
   "cell_type": "code",
   "execution_count": 46,
   "metadata": {},
   "outputs": [
    {
     "data": {
      "image/png": "[encoded data removed]",
      "text/plain": [
       "<Figure size 640x480 with 1 Axes>"
      ]
     },
     "metadata": {},
     "output_type": "display_data"
    }
   ],
   "source": [
    "independent_variable = sample['SPY']\n",
    "trend = np.polyval(reg, independent_variable)\n",
    "plt.scatter(sample['SPY'], sample['GOOG'])\n",
    "plt.plot(sample[\"SPY\"], trend, 'r');"
   ]
  },
  {
   "cell_type": "markdown",
   "metadata": {},
   "source": [
    "### Regression as a Technical Indicator"
   ]
  },
  {
   "cell_type": "code",
   "execution_count": 50,
   "metadata": {},
   "outputs": [
    {
     "name": "stdout",
     "output_type": "stream",
     "text": [
      "[*********************100%%**********************]  1 of 1 completed\n"
     ]
    },
    {
     "data": {
      "text/html": [
       "<div>\n",
       "<style scoped>\n",
       "    .dataframe tbody tr th:only-of-type {\n",
       "        vertical-align: middle;\n",
       "    }\n",
       "\n",
       "    .dataframe tbody tr th {\n",
       "        vertical-align: top;\n",
       "    }\n",
       "\n",
       "    .dataframe thead th {\n",
       "        text-align: right;\n",
       "    }\n",
       "</style>\n",
       "<table border=\"1\" class=\"dataframe\">\n",
       "  <thead>\n",
       "    <tr style=\"text-align: right;\">\n",
       "      <th></th>\n",
       "      <th>time</th>\n",
       "      <th>Close</th>\n",
       "    </tr>\n",
       "    <tr>\n",
       "      <th>Date</th>\n",
       "      <th></th>\n",
       "      <th></th>\n",
       "    </tr>\n",
       "  </thead>\n",
       "  <tbody>\n",
       "    <tr>\n",
       "      <th>2023-12-01</th>\n",
       "      <td>248</td>\n",
       "      <td>459.10</td>\n",
       "    </tr>\n",
       "    <tr>\n",
       "      <th>2023-12-04</th>\n",
       "      <td>249</td>\n",
       "      <td>456.69</td>\n",
       "    </tr>\n",
       "    <tr>\n",
       "      <th>2023-12-05</th>\n",
       "      <td>250</td>\n",
       "      <td>456.60</td>\n",
       "    </tr>\n",
       "    <tr>\n",
       "      <th>2023-12-06</th>\n",
       "      <td>251</td>\n",
       "      <td>454.76</td>\n",
       "    </tr>\n",
       "    <tr>\n",
       "      <th>2023-12-07</th>\n",
       "      <td>252</td>\n",
       "      <td>458.13</td>\n",
       "    </tr>\n",
       "  </tbody>\n",
       "</table>\n",
       "</div>"
      ],
      "text/plain": [
       "            time   Close\n",
       "Date                    \n",
       "2023-12-01   248  459.10\n",
       "2023-12-04   249  456.69\n",
       "2023-12-05   250  456.60\n",
       "2023-12-06   251  454.76\n",
       "2023-12-07   252  458.13"
      ]
     },
     "execution_count": 50,
     "metadata": {},
     "output_type": "execute_result"
    }
   ],
   "source": [
    "data = pd.DataFrame(pdr.get_data_yahoo('SPY', start)['Close'])\n",
    "time = np.arange(1, len(data) + 1)\n",
    "data['time'] = time\n",
    "data = data[['time', 'Close']]\n",
    "data = round(data,2)\n",
    "data.tail()"
   ]
  },
  {
   "cell_type": "code",
   "execution_count": 54,
   "metadata": {},
   "outputs": [
    {
     "data": {
      "text/plain": [
       "array([2.53739246e-01, 3.89998176e+02])"
      ]
     },
     "metadata": {},
     "output_type": "display_data"
    },
    {
     "name": "stdout",
     "output_type": "stream",
     "text": [
      "Intercept at 389.99818\n",
      "Gradient is 0.25\n",
      "Every day SPY rises by 0.25%\n"
     ]
    }
   ],
   "source": [
    "dependent = data['time']\n",
    "independent = data[\"Close\"]\n",
    "reg = np.polyfit(dependent, independent, deg = 1)\n",
    "\n",
    "display(reg)\n",
    "print(f\"Intercept at {reg[1]:.5f}\")\n",
    "print(f\"Gradient is {reg[0]:.2f}\")\n",
    "print(f\"Every day SPY rises by {reg[0]:.2f}%\")"
   ]
  },
  {
   "cell_type": "code",
   "execution_count": 57,
   "metadata": {},
   "outputs": [
    {
     "data": {
      "image/png": "[encoded data removed]",
      "text/plain": [
       "<Figure size 1000x600 with 1 Axes>"
      ]
     },
     "metadata": {},
     "output_type": "display_data"
    }
   ],
   "source": [
    "last_3_months = data['time'][-63:]\n",
    "trend = np.polyval(reg, last_3_months)\n",
    "std = data['Close'][-63:].std()\n",
    "plt.figure(figsize=(10,6))\n",
    "plt.plot(data['time'], data['Close'], label =\"S&P500\")\n",
    "plt.plot(data['time'][-63:], trend, 'r--')\n",
    "plt.plot(data['time'][-63:], trend - std, 'g--')\n",
    "plt.plot(data['time'][-63:], trend + std, 'g--');"
   ]
  },
  {
   "cell_type": "code",
   "execution_count": 64,
   "metadata": {},
   "outputs": [
    {
     "name": "stdout",
     "output_type": "stream",
     "text": [
      "On day 302 SPY price is predicted to be 466.63\n"
     ]
    }
   ],
   "source": [
    "# Predict the value in 50 days\n",
    "predict = np.poly1d(reg)\n",
    "\n",
    "plus_50_days = data.shape[0] + 50\n",
    "\n",
    "print(f\"On day {plus_50_days} SPY price is predicted to be {predict(plus_50_days):.2f}\")"
   ]
  },
  {
   "cell_type": "markdown",
   "metadata": {},
   "source": [
    "### Simple Scatter Plot with Trend Line"
   ]
  },
  {
   "cell_type": "code",
   "execution_count": 67,
   "metadata": {},
   "outputs": [
    {
     "ename": "KeyError",
     "evalue": "'SPY Close'",
     "output_type": "error",
     "traceback": [
      "\u001b[0;31m---------------------------------------------------------------------------\u001b[0m",
      "\u001b[0;31mKeyError\u001b[0m                                  Traceback (most recent call last)",
      "File \u001b[0;32m~/personal_workspace/FinanceDump/finance-venv/lib/python3.10/site-packages/pandas/core/indexes/base.py:3790\u001b[0m, in \u001b[0;36mIndex.get_loc\u001b[0;34m(self, key)\u001b[0m\n\u001b[1;32m   3789\u001b[0m \u001b[39mtry\u001b[39;00m:\n\u001b[0;32m-> 3790\u001b[0m     \u001b[39mreturn\u001b[39;00m \u001b[39mself\u001b[39;49m\u001b[39m.\u001b[39;49m_engine\u001b[39m.\u001b[39;49mget_loc(casted_key)\n\u001b[1;32m   3791\u001b[0m \u001b[39mexcept\u001b[39;00m \u001b[39mKeyError\u001b[39;00m \u001b[39mas\u001b[39;00m err:\n",
      "File \u001b[0;32mindex.pyx:152\u001b[0m, in \u001b[0;36mpandas._libs.index.IndexEngine.get_loc\u001b[0;34m()\u001b[0m\n",
      "File \u001b[0;32mindex.pyx:181\u001b[0m, in \u001b[0;36mpandas._libs.index.IndexEngine.get_loc\u001b[0;34m()\u001b[0m\n",
      "File \u001b[0;32mpandas/_libs/hashtable_class_helper.pxi:7080\u001b[0m, in \u001b[0;36mpandas._libs.hashtable.PyObjectHashTable.get_item\u001b[0;34m()\u001b[0m\n",
      "File \u001b[0;32mpandas/_libs/hashtable_class_helper.pxi:7088\u001b[0m, in \u001b[0;36mpandas._libs.hashtable.PyObjectHashTable.get_item\u001b[0;34m()\u001b[0m\n",
      "\u001b[0;31mKeyError\u001b[0m: 'SPY Close'",
      "\nThe above exception was the direct cause of the following exception:\n",
      "\u001b[0;31mKeyError\u001b[0m                                  Traceback (most recent call last)",
      "\u001b[1;32m/home/craigc/personal_workspace/FinanceDump/notebooks/regression.ipynb Cell 19\u001b[0m line \u001b[0;36m1\n\u001b[0;32m----> <a href='vscode-notebook-cell:/home/craigc/personal_workspace/FinanceDump/notebooks/regression.ipynb#X25sZmlsZQ%3D%3D?line=0'>1</a>\u001b[0m sb\u001b[39m.\u001b[39;49mregplot(x\u001b[39m=\u001b[39;49m\u001b[39m'\u001b[39;49m\u001b[39mtime\u001b[39;49m\u001b[39m'\u001b[39;49m, y\u001b[39m=\u001b[39;49m\u001b[39m'\u001b[39;49m\u001b[39mSPY Close\u001b[39;49m\u001b[39m'\u001b[39;49m, ci\u001b[39m=\u001b[39;49m\u001b[39mNone\u001b[39;49;00m, fit_reg\u001b[39m=\u001b[39;49m\u001b[39mTrue\u001b[39;49;00m, data\u001b[39m=\u001b[39;49mdata[\u001b[39m-\u001b[39;49m\u001b[39m63\u001b[39;49m:])\n",
      "File \u001b[0;32m~/personal_workspace/FinanceDump/finance-venv/lib/python3.10/site-packages/seaborn/regression.py:763\u001b[0m, in \u001b[0;36mregplot\u001b[0;34m(data, x, y, x_estimator, x_bins, x_ci, scatter, fit_reg, ci, n_boot, units, seed, order, logistic, lowess, robust, logx, x_partial, y_partial, truncate, dropna, x_jitter, y_jitter, label, color, marker, scatter_kws, line_kws, ax)\u001b[0m\n\u001b[1;32m    752\u001b[0m \u001b[39mdef\u001b[39;00m \u001b[39mregplot\u001b[39m(\n\u001b[1;32m    753\u001b[0m     data\u001b[39m=\u001b[39m\u001b[39mNone\u001b[39;00m, \u001b[39m*\u001b[39m, x\u001b[39m=\u001b[39m\u001b[39mNone\u001b[39;00m, y\u001b[39m=\u001b[39m\u001b[39mNone\u001b[39;00m,\n\u001b[1;32m    754\u001b[0m     x_estimator\u001b[39m=\u001b[39m\u001b[39mNone\u001b[39;00m, x_bins\u001b[39m=\u001b[39m\u001b[39mNone\u001b[39;00m, x_ci\u001b[39m=\u001b[39m\u001b[39m\"\u001b[39m\u001b[39mci\u001b[39m\u001b[39m\"\u001b[39m,\n\u001b[0;32m   (...)\u001b[0m\n\u001b[1;32m    760\u001b[0m     scatter_kws\u001b[39m=\u001b[39m\u001b[39mNone\u001b[39;00m, line_kws\u001b[39m=\u001b[39m\u001b[39mNone\u001b[39;00m, ax\u001b[39m=\u001b[39m\u001b[39mNone\u001b[39;00m\n\u001b[1;32m    761\u001b[0m ):\n\u001b[0;32m--> 763\u001b[0m     plotter \u001b[39m=\u001b[39m _RegressionPlotter(x, y, data, x_estimator, x_bins, x_ci,\n\u001b[1;32m    764\u001b[0m                                  scatter, fit_reg, ci, n_boot, units, seed,\n\u001b[1;32m    765\u001b[0m                                  order, logistic, lowess, robust, logx,\n\u001b[1;32m    766\u001b[0m                                  x_partial, y_partial, truncate, dropna,\n\u001b[1;32m    767\u001b[0m                                  x_jitter, y_jitter, color, label)\n\u001b[1;32m    769\u001b[0m     \u001b[39mif\u001b[39;00m ax \u001b[39mis\u001b[39;00m \u001b[39mNone\u001b[39;00m:\n\u001b[1;32m    770\u001b[0m         ax \u001b[39m=\u001b[39m plt\u001b[39m.\u001b[39mgca()\n",
      "File \u001b[0;32m~/personal_workspace/FinanceDump/finance-venv/lib/python3.10/site-packages/seaborn/regression.py:107\u001b[0m, in \u001b[0;36m_RegressionPlotter.__init__\u001b[0;34m(self, x, y, data, x_estimator, x_bins, x_ci, scatter, fit_reg, ci, n_boot, units, seed, order, logistic, lowess, robust, logx, x_partial, y_partial, truncate, dropna, x_jitter, y_jitter, color, label)\u001b[0m\n\u001b[1;32m    104\u001b[0m     \u001b[39mraise\u001b[39;00m \u001b[39mValueError\u001b[39;00m(\u001b[39m\"\u001b[39m\u001b[39mMutually exclusive regression options.\u001b[39m\u001b[39m\"\u001b[39m)\n\u001b[1;32m    106\u001b[0m \u001b[39m# Extract the data vals from the arguments or passed dataframe\u001b[39;00m\n\u001b[0;32m--> 107\u001b[0m \u001b[39mself\u001b[39;49m\u001b[39m.\u001b[39;49mestablish_variables(data, x\u001b[39m=\u001b[39;49mx, y\u001b[39m=\u001b[39;49my, units\u001b[39m=\u001b[39;49munits,\n\u001b[1;32m    108\u001b[0m                          x_partial\u001b[39m=\u001b[39;49mx_partial, y_partial\u001b[39m=\u001b[39;49my_partial)\n\u001b[1;32m    110\u001b[0m \u001b[39m# Drop null observations\u001b[39;00m\n\u001b[1;32m    111\u001b[0m \u001b[39mif\u001b[39;00m dropna:\n",
      "File \u001b[0;32m~/personal_workspace/FinanceDump/finance-venv/lib/python3.10/site-packages/seaborn/regression.py:44\u001b[0m, in \u001b[0;36m_LinearPlotter.establish_variables\u001b[0;34m(self, data, **kws)\u001b[0m\n\u001b[1;32m     42\u001b[0m \u001b[39mfor\u001b[39;00m var, val \u001b[39min\u001b[39;00m kws\u001b[39m.\u001b[39mitems():\n\u001b[1;32m     43\u001b[0m     \u001b[39mif\u001b[39;00m \u001b[39misinstance\u001b[39m(val, \u001b[39mstr\u001b[39m):\n\u001b[0;32m---> 44\u001b[0m         vector \u001b[39m=\u001b[39m data[val]\n\u001b[1;32m     45\u001b[0m     \u001b[39melif\u001b[39;00m \u001b[39misinstance\u001b[39m(val, \u001b[39mlist\u001b[39m):\n\u001b[1;32m     46\u001b[0m         vector \u001b[39m=\u001b[39m np\u001b[39m.\u001b[39masarray(val)\n",
      "File \u001b[0;32m~/personal_workspace/FinanceDump/finance-venv/lib/python3.10/site-packages/pandas/core/frame.py:3893\u001b[0m, in \u001b[0;36mDataFrame.__getitem__\u001b[0;34m(self, key)\u001b[0m\n\u001b[1;32m   3891\u001b[0m \u001b[39mif\u001b[39;00m \u001b[39mself\u001b[39m\u001b[39m.\u001b[39mcolumns\u001b[39m.\u001b[39mnlevels \u001b[39m>\u001b[39m \u001b[39m1\u001b[39m:\n\u001b[1;32m   3892\u001b[0m     \u001b[39mreturn\u001b[39;00m \u001b[39mself\u001b[39m\u001b[39m.\u001b[39m_getitem_multilevel(key)\n\u001b[0;32m-> 3893\u001b[0m indexer \u001b[39m=\u001b[39m \u001b[39mself\u001b[39;49m\u001b[39m.\u001b[39;49mcolumns\u001b[39m.\u001b[39;49mget_loc(key)\n\u001b[1;32m   3894\u001b[0m \u001b[39mif\u001b[39;00m is_integer(indexer):\n\u001b[1;32m   3895\u001b[0m     indexer \u001b[39m=\u001b[39m [indexer]\n",
      "File \u001b[0;32m~/personal_workspace/FinanceDump/finance-venv/lib/python3.10/site-packages/pandas/core/indexes/base.py:3797\u001b[0m, in \u001b[0;36mIndex.get_loc\u001b[0;34m(self, key)\u001b[0m\n\u001b[1;32m   3792\u001b[0m     \u001b[39mif\u001b[39;00m \u001b[39misinstance\u001b[39m(casted_key, \u001b[39mslice\u001b[39m) \u001b[39mor\u001b[39;00m (\n\u001b[1;32m   3793\u001b[0m         \u001b[39misinstance\u001b[39m(casted_key, abc\u001b[39m.\u001b[39mIterable)\n\u001b[1;32m   3794\u001b[0m         \u001b[39mand\u001b[39;00m \u001b[39many\u001b[39m(\u001b[39misinstance\u001b[39m(x, \u001b[39mslice\u001b[39m) \u001b[39mfor\u001b[39;00m x \u001b[39min\u001b[39;00m casted_key)\n\u001b[1;32m   3795\u001b[0m     ):\n\u001b[1;32m   3796\u001b[0m         \u001b[39mraise\u001b[39;00m InvalidIndexError(key)\n\u001b[0;32m-> 3797\u001b[0m     \u001b[39mraise\u001b[39;00m \u001b[39mKeyError\u001b[39;00m(key) \u001b[39mfrom\u001b[39;00m \u001b[39merr\u001b[39;00m\n\u001b[1;32m   3798\u001b[0m \u001b[39mexcept\u001b[39;00m \u001b[39mTypeError\u001b[39;00m:\n\u001b[1;32m   3799\u001b[0m     \u001b[39m# If we have a listlike key, _check_indexing_error will raise\u001b[39;00m\n\u001b[1;32m   3800\u001b[0m     \u001b[39m#  InvalidIndexError. Otherwise we fall through and re-raise\u001b[39;00m\n\u001b[1;32m   3801\u001b[0m     \u001b[39m#  the TypeError.\u001b[39;00m\n\u001b[1;32m   3802\u001b[0m     \u001b[39mself\u001b[39m\u001b[39m.\u001b[39m_check_indexing_error(key)\n",
      "\u001b[0;31mKeyError\u001b[0m: 'SPY Close'"
     ]
    }
   ],
   "source": [
    "sb.regplot(x='time', y='Close', ci=None, fit_reg=True, data=data[-63:])"
   ]
  }
 ],
 "metadata": {
  "kernelspec": {
   "display_name": "finance-venv",
   "language": "python",
   "name": "python3"
  },
  "language_info": {
   "codemirror_mode": {
    "name": "ipython",
    "version": 3
   },
   "file_extension": ".py",
   "mimetype": "text/x-python",
   "name": "python",
   "nbconvert_exporter": "python",
   "pygments_lexer": "ipython3",
   "version": "3.10.12"
  }
 },
 "nbformat": 4,
 "nbformat_minor": 2
}
