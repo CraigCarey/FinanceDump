{
 "cells": [
  {
   "cell_type": "code",
   "execution_count": 1,
   "metadata": {},
   "outputs": [],
   "source": [
    "import pickle\n",
    "import pandas as pd\n",
    "from datetime import datetime\n",
    "from pprint import pprint\n",
    "from collections import defaultdict"
   ]
  },
  {
   "cell_type": "code",
   "execution_count": 2,
   "metadata": {},
   "outputs": [
    {
     "data": {
      "text/plain": [
       "dict_keys(['timestamp', 'income_statement', 'income_statement_quarterly', 'income_statement_growth', 'cashflow_statement', 'cashflow_statement_quarterly', 'cashflow_statement_growth', 'balance_sheet_statement', 'balance_sheet_statement_quarterly', 'balance_sheet_statement_growth', 'discounted_cash_flow', 'advanced_discounted_cash_flow', 'advanced_levered_discounted_cash_flow', 'key_metrics', 'key_metrics_quarterly', 'key_metrics_ttm', 'growth', 'owner_earnings', 'enterprise_values', 'dividends', 'scores'])"
      ]
     },
     "metadata": {},
     "output_type": "display_data"
    }
   ],
   "source": [
    "symbol = 'IMB.L'\n",
    "\n",
    "data_file = '../data/all_lse_stock_data_230108.pkl'\n",
    "with open(data_file, 'rb') as file:\n",
    "    all_data = pickle.load(file)\n",
    "\n",
    "data = all_data[symbol]\n",
    "display(data.keys())"
   ]
  },
  {
   "cell_type": "code",
   "execution_count": 26,
   "metadata": {},
   "outputs": [
    {
     "data": {
      "text/plain": [
       "{'ebit': 2890000000.0, 'ev': 28407392000, 'ebit_ev': 0.10173408386098942}"
      ]
     },
     "metadata": {},
     "output_type": "display_data"
    }
   ],
   "source": [
    "def get_qv_metrics(data: dict) -> dict:\n",
    "    metrics = {}\n",
    "\n",
    "    metrics['num_shares'] = data['enterprise_values'][2022]['numberOfShares']\n",
    "    \n",
    "    ebitda = data['income_statement']['2022']['ebitda']\n",
    "    ebit = data['advanced_discounted_cash_flow'][2022]['ebit']\n",
    "    da = data['income_statement']['2022']['depreciationAndAmortization']\n",
    "    assert(ebitda == ebit + da)\n",
    "\n",
    "    metrics['ebit'] = ebit\n",
    "\n",
    "    ev = data['enterprise_values'][2022]['enterpriseValue']\n",
    "    mi = data['balance_sheet_statement']['2022']['minorityInterest']\n",
    "    tev = ev + mi # TODO: is it really added, not part of ev already? \n",
    "    ebit_ev = ebit/ev\n",
    "    metrics['ev'] = ev\n",
    "    metrics['ebit_ev'] = ebit_ev\n",
    "    metrics['mi'] = mi\n",
    "\n",
    "    return metrics\n",
    "\n",
    "qv_metrics = get_qv_metrics(data)\n",
    "display(qv_metrics)"
   ]
  },
  {
   "cell_type": "code",
   "execution_count": 34,
   "metadata": {},
   "outputs": [
    {
     "name": "stdout",
     "output_type": "stream",
     "text": [
      "613,000,000\n",
      "944,400,000\n",
      "2,000,239,200,000\n"
     ]
    }
   ],
   "source": [
    "mi = data['balance_sheet_statement']['2022']['minorityInterest']\n",
    "print(f\"{mi:,}\")\n",
    "\n",
    "num_shares = data['enterprise_values'][2022]['numberOfShares']\n",
    "print(f\"{num_shares:,}\")\n",
    "\n",
    "mkt_cap = data['enterprise_values'][2022]['marketCapitalization']\n",
    "print(f\"{mkt_cap:,}\")"
   ]
  }
 ],
 "metadata": {
  "kernelspec": {
   "display_name": "fintech-nb-venv",
   "language": "python",
   "name": "python3"
  },
  "language_info": {
   "codemirror_mode": {
    "name": "ipython",
    "version": 3
   },
   "file_extension": ".py",
   "mimetype": "text/x-python",
   "name": "python",
   "nbconvert_exporter": "python",
   "pygments_lexer": "ipython3",
   "version": "3.10.6"
  },
  "orig_nbformat": 4,
  "vscode": {
   "interpreter": {
    "hash": "161bb323b90e11c9899af7be07b4c380a7c03bf0e17e1ed36618bfcb5c83301d"
   }
  }
 },
 "nbformat": 4,
 "nbformat_minor": 2
}
