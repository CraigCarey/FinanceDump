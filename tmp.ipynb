{
 "cells": [
  {
   "cell_type": "code",
   "execution_count": 9,
   "metadata": {},
   "outputs": [],
   "source": [
    "import tradingview_ta as ta"
   ]
  },
  {
   "cell_type": "code",
   "execution_count": null,
   "metadata": {},
   "outputs": [],
   "source": [
    "from dataclasses import dataclass\n",
    "\n",
    "@dataclass\n",
    "class Stock:\n",
    "    symbol: str\n",
    "    exchange: str\n",
    "    screener: str\n",
    "    price: float"
   ]
  },
  {
   "cell_type": "code",
   "execution_count": 11,
   "metadata": {},
   "outputs": [
    {
     "data": {
      "text/plain": [
       "274.6"
      ]
     },
     "execution_count": 11,
     "metadata": {},
     "output_type": "execute_result"
    }
   ],
   "source": [
    "symbol = \"SBER\"\n",
    "exchange = \"ALOR\"\n",
    "screener=\"russia\" # Country screener, use 'russia' for MOEX\n",
    "\n",
    "ticker = ta.TA_Handler(\n",
    "    symbol=symbol,\n",
    "    screener=screener,  \n",
    "    exchange=exchange,\n",
    "    interval=ta.Interval.INTERVAL_1_DAY  # Interval for the data\n",
    ")\n",
    "\n",
    "analysis = ticker.get_analysis()\n",
    "analysis.indicators['close']"
   ]
  }
 ],
 "metadata": {
  "kernelspec": {
   "display_name": "finance-venv",
   "language": "python",
   "name": "python3"
  },
  "language_info": {
   "codemirror_mode": {
    "name": "ipython",
    "version": 3
   },
   "file_extension": ".py",
   "mimetype": "text/x-python",
   "name": "python",
   "nbconvert_exporter": "python",
   "pygments_lexer": "ipython3",
   "version": "3.12.3"
  }
 },
 "nbformat": 4,
 "nbformat_minor": 2
}
