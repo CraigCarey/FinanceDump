{
    "cells": [
        {
            "cell_type": "code",
            "execution_count": 7,
            "metadata": {},
            "outputs": [
                {
                    "name": "stdout",
                    "output_type": "stream",
                    "text": [
                        "File downloaded successfully and saved to barings-emerging-emea-opportunities-plc-portfolio-holdings-en.pdf\n",
                        "MD5 Checksum: 7dceb024d099d945c1a0cedc4e1599ae\n"
                    ]
                }
            ],
            "source": [
                "import sys\n",
                "import os\n",
                "\n",
                "import pandas as pd\n",
                "\n",
                "# Add the sibling directory to Python's search path\n",
                "sibling_dir = os.path.abspath(\"../../utils\")\n",
                "sys.path.append(sibling_dir)\n",
                "\n",
                "from data_utils import download_file, calculate_md5, cols, check_df_types, clean_float_str\n",
                "\n",
                "pdf_url = \"https://documents.barings.com/docs/barings-emerging-emea-opportunities-plc-portfolio-holdings-en.pdf\"\n",
                "save_location = \"barings-emerging-emea-opportunities-plc-portfolio-holdings-en.pdf\"\n",
                "\n",
                "download_file(pdf_url, save_location)\n",
                "\n",
                "md5_checksum = calculate_md5(save_location)\n",
                "print(f\"MD5 Checksum: {md5_checksum}\")"
            ]
        },
        {
            "cell_type": "code",
            "execution_count": 8,
            "metadata": {},
            "outputs": [
                {
                    "name": "stdout",
                    "output_type": "stream",
                    "text": [
                        "['Valuation DatePortfolio NamePortfolio CodeISSUER GROUPINGSEDOL CodeQuantity Currency Port. Ending WeightCOUNTRYWITHOVERIDETOPBOTTOMMSCISECTORTOPBOTTOMAsset Class (Client Definition/FactSet)\\n', '10/31/2024BARINGS EMERGING EMEA OPPORTUNITIES PLCKRYPTON ABU DHABI COMMERCIAL BANK6545464 1,030,804 AED 2.27% United Arab EmiratesFinancials EQUITY\\n', '10/31/2024BARINGS EMERGING EMEA OPPORTUNITIES PLCKRYPTON ADNOC DRILLING COMPANYBN12D39 2,225,680 AED 2.78% United Arab EmiratesEnergy EQUITY\\n', '10/31/2024BARINGS EMERGING EMEA OPPORTUNITIES PLCKRYPTON AKBANK A B03MN70 360,828 TRY 0.48% Turkey Financials EQUITY\\n', '10/31/2024BARINGS EMERGING EMEA OPPORTUNITIES PLCKRYPTON AL MOUWASAT MEDICAL SERVICESB403QG4 9,987 SAR 0.23% Saudi ArabiaHealth CareEQUITY\\n', '10/31/2024BARINGS EMERGING EMEA OPPORTUNITIES PLCKRYPTON AL RAJHI BANKB12LZH9 320,274 SAR 6.79% Saudi ArabiaFinancials EQUITY\\n', '10/31/2024BARINGS EMERGING EMEA OPPORTUNITIES PLCKRYPTON ALDAR PROPERTIESB0LX3Y2 765,014 AED 1.44% United Arab EmiratesReal EstateEQUITY\\n', '10/31/2024BARINGS EMERGING EMEA OPPORTUNITIES PLCKRYPTON ALLEGRO SABMBQDF6 90,590 PLN 0.72% Poland Consumer DiscretionaryEQUITY\\n', '10/31/2024BARINGS EMERGING EMEA OPPORTUNITIES PLCKRYPTON ALPHA SERVICES AND HOLDINGS SABZ1MXR7 1,423,484 EUR 1.93% Greece Financials EQUITY\\n', '10/31/2024BARINGS EMERGING EMEA OPPORTUNITIES PLCKRYPTON ANGLO AMERICAN PLATINUM LTD6761000 101 ZAR 0.00% South AfricaMaterials EQUITY\\n', '10/31/2024BARINGS EMERGING EMEA OPPORTUNITIES PLCKRYPTON ANGLO AMERICAN PLCB1YW0L9 26,415 ZAR 0.73% South AfricaMaterials EQUITY\\n', '10/31/2024BARINGS EMERGING EMEA OPPORTUNITIES PLCKRYPTON ANGLOGOLD ASHANTI PLCBRF6FX9 90,819 ZAR 2.28% South AfricaMaterials EQUITY\\n', '10/31/2024BARINGS EMERGING EMEA OPPORTUNITIES PLCKRYPTON BID CORPORATION LTDBZBFKT7 31,499 ZAR 0.67% South AfricaConsumer StaplesEQUITY\\n', '10/31/2024BARINGS EMERGING EMEA OPPORTUNITIES PLCKRYPTON BIM BIRLESIK MAGAZALAR AB0D0006 113,669 TRY 1.40% Turkey Consumer StaplesEQUITY\\n', '10/31/2024BARINGS EMERGING EMEA OPPORTUNITIES PLCKRYPTON BUPA ARABIAB2RLCR0 12,713 SAR 0.62% Saudi ArabiaFinancials EQUITY\\n', '10/31/2024BARINGS EMERGING EMEA OPPORTUNITIES PLCKRYPTON CAPITEC LTD6440859 26,523 ZAR 4.30% South AfricaFinancials EQUITY\\n', '10/31/2024BARINGS EMERGING EMEA OPPORTUNITIES PLCKRYPTON DINO POLSKA SABD0YVN2 13,580 PLN 1.02% Poland Consumer StaplesEQUITY\\n', '10/31/2024BARINGS EMERGING EMEA OPPORTUNITIES PLCKRYPTON DR SULAIMAN AL HABIB MEDICAL GRPBLGM738 21,084 SAR 1.45% Saudi ArabiaHealth CareEQUITY\\n', '10/31/2024BARINGS EMERGING EMEA OPPORTUNITIES PLCKRYPTON EMAAR PROPERTIESB01RM25 744,743 AED 1.59% United Arab EmiratesReal EstateEQUITY\\n', '10/31/2024BARINGS EMERGING EMEA OPPORTUNITIES PLCKRYPTON EMIRATES TELECOM6322173 409,997 AED 1.79% United Arab EmiratesCommunication ServicesEQUITY\\n', '10/31/2024BARINGS EMERGING EMEA OPPORTUNITIES PLCKRYPTON ETIHAD ETISALATB12LR51 197,907 SAR 2.47% Saudi ArabiaCommunication ServicesEQUITY\\n', '10/31/2024BARINGS EMERGING EMEA OPPORTUNITIES PLCKRYPTON FIRST ABU DHABI BANK6624471 484,421 AED 1.57% United Arab EmiratesFinancials EQUITY\\n', '10/31/2024BARINGS EMERGING EMEA OPPORTUNITIES PLCKRYPTON FIRSTRAND LTD6606996 1,108,139 ZAR 4.37% South AfricaFinancials EQUITY\\n', '10/31/2024BARINGS EMERGING EMEA OPPORTUNITIES PLCKRYPTON GAZPROM B59L4L7 824,340 RUB 0.00% Russian FederationEnergy EQUITY\\n', '10/31/2024BARINGS EMERGING EMEA OPPORTUNITIES PLCKRYPTON GEDEON RICHTERBC9ZH86 64,449 HUF 1.68% Hungary Health CareEQUITY\\n', '10/31/2024BARINGS EMERGING EMEA OPPORTUNITIES PLCKRYPTON GMK NORILSKIY NIKELB5B1TX2 1,509,800 RUB 0.00% Russian FederationMaterials EQUITY\\n', '10/31/2024BARINGS EMERGING EMEA OPPORTUNITIES PLCKRYPTON GOLD FIELDS LTD6280215 175,778 ZAR 2.61% South AfricaMaterials EQUITY\\n', '10/31/2024BARINGS EMERGING EMEA OPPORTUNITIES PLCKRYPTON HACI OMER SABANCI HOLDING AB03N0C7 290,585 TRY 0.64% Turkey Financials EQUITY\\n', '10/31/2024BARINGS EMERGING EMEA OPPORTUNITIES PLCKRYPTON IMPALA PLATINUM LTDB1FFT76 228,434 ZAR 1.35% South AfricaMaterials EQUITY\\n', '10/31/2024BARINGS EMERGING EMEA OPPORTUNITIES PLCKRYPTON INDUSTRIES QATAR6673570 178,451 QAR 0.59% Qatar Industrials EQUITY\\n', '10/31/2024BARINGS EMERGING EMEA OPPORTUNITIES PLCKRYPTON INPOST SA BN4N9C0 53,688 EUR 0.95% NetherlandsIndustrials EQUITY\\n', '10/31/2024BARINGS EMERGING EMEA OPPORTUNITIES PLCKRYPTON JUMBO SA 7243530 55,410 EUR 1.33% Greece Consumer DiscretionaryEQUITY\\n', '10/31/2024BARINGS EMERGING EMEA OPPORTUNITIES PLCKRYPTON KGHM POLSKA MIEDZ SA5263251 56,314 PLN 1.90% Poland Materials EQUITY\\n', '10/31/2024BARINGS EMERGING EMEA OPPORTUNITIES PLCKRYPTON KOC HOLDING AB03MVJ8 174,104 TRY 0.78% Turkey Industrials EQUITY\\n', '10/31/2024BARINGS EMERGING EMEA OPPORTUNITIES PLCKRYPTON KOMERCNI BANK4519449 44,816 CZK 1.40% Czech RepublicFinancials EQUITY\\n', '10/31/2024BARINGS EMERGING EMEA OPPORTUNITIES PLCKRYPTON KUWAIT FINANCE HOUSE6503138 196,659 KWD 0.42% Kuwait Financials EQUITY\\n', '10/31/2024BARINGS EMERGING EMEA OPPORTUNITIES PLCKRYPTON MOL HUNGARIAN OIL AND GASBD5ZXH8 63,789 HUF 0.40% Hungary Energy EQUITY\\n', '10/31/2024BARINGS EMERGING EMEA OPPORTUNITIES PLCKRYPTON MOSCOW EXCHANGEB9GFHQ6 86,875 RUB 0.00% Russian FederationFinancials EQUITY\\n', '10/31/2024BARINGS EMERGING EMEA OPPORTUNITIES PLCKRYPTON MR PRICE GROUP LTDBYXW419 30,465 ZAR 0.40% South AfricaConsumer DiscretionaryEQUITY\\n', '10/31/2024BARINGS EMERGING EMEA OPPORTUNITIES PLCKRYPTON MTN GROUP LTD6563206 199,835 ZAR 0.90% South AfricaCommunication ServicesEQUITY\\n', '10/31/2024BARINGS EMERGING EMEA OPPORTUNITIES PLCKRYPTON NASPERS LIMITED LTD CLASS NBN0VX82 27,107 ZAR 5.75% South AfricaConsumer DiscretionaryEQUITY\\n', '10/31/2024BARINGS EMERGING EMEA OPPORTUNITIES PLCKRYPTON NATIONAL BANK OF GREECE SABG087C6 75,367 EUR 0.53% Greece Financials EQUITY\\n', '10/31/2024BARINGS EMERGING EMEA OPPORTUNITIES PLCKRYPTON NATIONAL BANK OF KUWAIT6889526 1,109,683 KWD 2.78% Kuwait Financials EQUITY\\n', '10/31/2024BARINGS EMERGING EMEA OPPORTUNITIES PLCKRYPTON NEDBANK GROUP LTD6628008 45,833 ZAR 0.70% South AfricaFinancials EQUITY\\n', '10/31/2024BARINGS EMERGING EMEA OPPORTUNITIES PLCKRYPTON NK LUKOIL B59SNS8 72,519 RUB 0.00% Russian FederationEnergy EQUITY\\n', '10/31/2024BARINGS EMERGING EMEA OPPORTUNITIES PLCKRYPTON NOVATEK B59HPK1 107,150 RUB 0.00% Russian FederationEnergy EQUITY\\n', '10/31/2024BARINGS EMERGING EMEA OPPORTUNITIES PLCKRYPTON OTP BANK 7320154 46,369 HUF 2.08% Hungary Financials EQUITY\\n', '10/31/2024BARINGS EMERGING EMEA OPPORTUNITIES PLCKRYPTON PIRAEUS FINANCIAL HOLDINGS SABNC0DB0 280,371 EUR 0.95% Greece Financials EQUITY\\n', '10/31/2024BARINGS EMERGING EMEA OPPORTUNITIES PLCKRYPTON POWSZECHNA KASA OSZCZEDNOSCI BANKB03NGS5 141,250 PLN 1.78% Poland Financials EQUITY\\n', '10/31/2024BARINGS EMERGING EMEA OPPORTUNITIES PLCKRYPTON PZU SA B63DG21 147,630 PLN 1.32% Poland Financials EQUITY\\n', '10/31/2024BARINGS EMERGING EMEA OPPORTUNITIES PLCKRYPTON QATAR NATIONAL BANK6148197 795,213 QAR 3.43% Qatar Financials EQUITY\\n', '10/31/2024BARINGS EMERGING EMEA OPPORTUNITIES PLCKRYPTON RIYAD BANKB12LZW4 112,592 SAR 0.70% Saudi ArabiaFinancials EQUITY\\n', '10/31/2024BARINGS EMERGING EMEA OPPORTUNITIES PLCKRYPTON SAUDI ARABIAN MININGB3C8VY3 197,368 SAR 2.68% Saudi ArabiaMaterials EQUITY\\n', '10/31/2024BARINGS EMERGING EMEA OPPORTUNITIES PLCKRYPTON SAUDI ARABIAN OILBJTM270 360,592 SAR 2.35% Saudi ArabiaEnergy EQUITY\\n', '10/31/2024BARINGS EMERGING EMEA OPPORTUNITIES PLCKRYPTON SAUDI AWWAL BANKB12LSY7 121,258 SAR 0.99% Saudi ArabiaFinancials EQUITY\\n', '10/31/2024BARINGS EMERGING EMEA OPPORTUNITIES PLCKRYPTON SAUDI BASIC INDUSTRIESB1324D0 173,192 SAR 3.03% Saudi ArabiaMaterials EQUITY\\n', '10/31/2024BARINGS EMERGING EMEA OPPORTUNITIES PLCKRYPTON SAUDI TADAWUL GROUP COBMZQ749 33,425 SAR 1.92% Saudi ArabiaFinancials EQUITY\\n', '10/31/2024BARINGS EMERGING EMEA OPPORTUNITIES PLCKRYPTON SAUDI TELECOMB12M7Q5 287,416 SAR 2.92% Saudi ArabiaCommunication ServicesEQUITY\\n', '10/31/2024BARINGS EMERGING EMEA OPPORTUNITIES PLCKRYPTON SBERBANK ROSSII4767981 1,374,068 RUB 0.00% Russian FederationFinancials EQUITY\\n', '10/31/2024BARINGS EMERGING EMEA OPPORTUNITIES PLCKRYPTON SHOPRITE HOLDINGS LTD6801575 100,821 ZAR 1.56% South AfricaConsumer StaplesEQUITY\\n', '10/31/2024BARINGS EMERGING EMEA OPPORTUNITIES PLCKRYPTON THE COOPERATIVE INSURANCEB128FN6 7,160 SAR 0.24% Saudi ArabiaFinancials EQUITY\\n', '10/31/2024BARINGS EMERGING EMEA OPPORTUNITIES PLCKRYPTON THE SAUDI NATIONAL BANKBSHYYN1 374,393 SAR 2.99% Saudi ArabiaFinancials EQUITY\\n', '10/31/2024BARINGS EMERGING EMEA OPPORTUNITIES PLCKRYPTON TURKCELL ILETISIM HIZMETLERI AB03MYN3 124,340 TRY 0.28% Turkey Communication ServicesEQUITY\\n', '10/31/2024BARINGS EMERGING EMEA OPPORTUNITIES PLCKRYPTON UNITED COMPANY RUSALBNGCVY1 572,570 RUB 0.00% Russian FederationMaterials EQUITY\\n', '10/31/2024BARINGS EMERGING EMEA OPPORTUNITIES PLCKRYPTON YAPI VE KREDI BANKASI AB03MZJ6 809,808 TRY 0.52% Turkey Financials EQUITY\\n', '10/31/2024BARINGS EMERGING EMEA OPPORTUNITIES PLCKRYPTON EUR CASH(Alpha Committed)CASH_EUR 3,910 EUR 0.00% European UnionCASH CASH\\n', '10/31/2024BARINGS EMERGING EMEA OPPORTUNITIES PLCKRYPTON GBP CASH(Alpha Committed)CASH_GBP 1,352 GBP 0.00% United KingdomCASH CASH\\n', '10/31/2024BARINGS EMERGING EMEA OPPORTUNITIES PLCKRYPTON KWD CASH(COMMITTED)CASH_KWD 56 KWD 0.00% Kuwait CASH CASH\\n', '10/31/2024BARINGS EMERGING EMEA OPPORTUNITIES PLCKRYPTON PLN CASH(Alpha Committed)CASH_PLN 2,088 PLN 0.00% Poland CASH CASH\\n', '10/31/2024BARINGS EMERGING EMEA OPPORTUNITIES PLCKRYPTON RON CASH(COMMITTED)CASH_RON 0 RON 0.00% Romania CASH CASH\\n', '10/31/2024BARINGS EMERGING EMEA OPPORTUNITIES PLCKRYPTON SAR CASH(COMMITTED)CASH_SAR 1,479 SAR 0.00% Saudi ArabiaCASH CASH\\n', '10/31/2024BARINGS EMERGING EMEA OPPORTUNITIES PLCKRYPTON TRY CASH(Alpha Committed)CASH_TRY 7 TRY 0.00% Turkey CASH CASH\\n', '10/31/2024BARINGS EMERGING EMEA OPPORTUNITIES PLCKRYPTON USD CASH(Alpha Committed)CASH_USD4,667,019 USD 4.22% United StatesCASH CASH\\n', '10/31/2024BARINGS EMERGING EMEA OPPORTUNITIES PLCKRYPTON ZAR CASH(Alpha Committed)CASH_ZAR 403 ZAR 0.00% South AfricaCASH CASH']\n"
                    ]
                },
                {
                    "data": {
                        "text/plain": [
                            "['ABU DHABI COMMERCIAL BANK6545464 1,030,804 AED 2.27%',\n",
                            " 'ADNOC DRILLING COMPANYBN12D39 2,225,680 AED 2.78%',\n",
                            " 'AKBANK A B03MN70 360,828 TRY 0.48%',\n",
                            " 'AL MOUWASAT MEDICAL SERVICESB403QG4 9,987 SAR 0.23%',\n",
                            " 'AL RAJHI BANKB12LZH9 320,274 SAR 6.79%',\n",
                            " 'ALDAR PROPERTIESB0LX3Y2 765,014 AED 1.44%',\n",
                            " 'ALLEGRO SABMBQDF6 90,590 PLN 0.72%',\n",
                            " 'ALPHA SERVICES AND HOLDINGS SABZ1MXR7 1,423,484 EUR 1.93%',\n",
                            " 'ANGLO AMERICAN PLATINUM LTD6761000 101 ZAR 0.00%',\n",
                            " 'ANGLO AMERICAN PLCB1YW0L9 26,415 ZAR 0.73%',\n",
                            " 'ANGLOGOLD ASHANTI PLCBRF6FX9 90,819 ZAR 2.28%',\n",
                            " 'BID CORPORATION LTDBZBFKT7 31,499 ZAR 0.67%',\n",
                            " 'BIM BIRLESIK MAGAZALAR AB0D0006 113,669 TRY 1.40%',\n",
                            " 'BUPA ARABIAB2RLCR0 12,713 SAR 0.62%',\n",
                            " 'CAPITEC LTD6440859 26,523 ZAR 4.30%',\n",
                            " 'DINO POLSKA SABD0YVN2 13,580 PLN 1.02%',\n",
                            " 'DR SULAIMAN AL HABIB MEDICAL GRPBLGM738 21,084 SAR 1.45%',\n",
                            " 'EMAAR PROPERTIESB01RM25 744,743 AED 1.59%',\n",
                            " 'EMIRATES TELECOM6322173 409,997 AED 1.79%',\n",
                            " 'ETIHAD ETISALATB12LR51 197,907 SAR 2.47%',\n",
                            " 'FIRST ABU DHABI BANK6624471 484,421 AED 1.57%',\n",
                            " 'FIRSTRAND LTD6606996 1,108,139 ZAR 4.37%',\n",
                            " 'GAZPROM B59L4L7 824,340 RUB 0.00%',\n",
                            " 'GEDEON RICHTERBC9ZH86 64,449 HUF 1.68%',\n",
                            " 'GMK NORILSKIY NIKELB5B1TX2 1,509,800 RUB 0.00%',\n",
                            " 'GOLD FIELDS LTD6280215 175,778 ZAR 2.61%',\n",
                            " 'HACI OMER SABANCI HOLDING AB03N0C7 290,585 TRY 0.64%',\n",
                            " 'IMPALA PLATINUM LTDB1FFT76 228,434 ZAR 1.35%',\n",
                            " 'INDUSTRIES QATAR6673570 178,451 QAR 0.59%',\n",
                            " 'INPOST SA BN4N9C0 53,688 EUR 0.95%',\n",
                            " 'JUMBO SA 7243530 55,410 EUR 1.33%',\n",
                            " 'KGHM POLSKA MIEDZ SA5263251 56,314 PLN 1.90%',\n",
                            " 'KOC HOLDING AB03MVJ8 174,104 TRY 0.78%',\n",
                            " 'KOMERCNI BANK4519449 44,816 CZK 1.40%',\n",
                            " 'KUWAIT FINANCE HOUSE6503138 196,659 KWD 0.42%',\n",
                            " 'MOL HUNGARIAN OIL AND GASBD5ZXH8 63,789 HUF 0.40%',\n",
                            " 'MOSCOW EXCHANGEB9GFHQ6 86,875 RUB 0.00%',\n",
                            " 'MR PRICE GROUP LTDBYXW419 30,465 ZAR 0.40%',\n",
                            " 'MTN GROUP LTD6563206 199,835 ZAR 0.90%',\n",
                            " 'NASPERS LIMITED LTD CLASS NBN0VX82 27,107 ZAR 5.75%',\n",
                            " 'NATIONAL BANK OF GREECE SABG087C6 75,367 EUR 0.53%',\n",
                            " 'NATIONAL BANK OF KUWAIT6889526 1,109,683 KWD 2.78%',\n",
                            " 'NEDBANK GROUP LTD6628008 45,833 ZAR 0.70%',\n",
                            " 'NK LUKOIL B59SNS8 72,519 RUB 0.00%',\n",
                            " 'NOVATEK B59HPK1 107,150 RUB 0.00%',\n",
                            " 'OTP BANK 7320154 46,369 HUF 2.08%',\n",
                            " 'PIRAEUS FINANCIAL HOLDINGS SABNC0DB0 280,371 EUR 0.95%',\n",
                            " 'POWSZECHNA KASA OSZCZEDNOSCI BANKB03NGS5 141,250 PLN 1.78%',\n",
                            " 'PZU SA B63DG21 147,630 PLN 1.32%',\n",
                            " 'QATAR NATIONAL BANK6148197 795,213 QAR 3.43%',\n",
                            " 'RIYAD BANKB12LZW4 112,592 SAR 0.70%',\n",
                            " 'SAUDI ARABIAN MININGB3C8VY3 197,368 SAR 2.68%',\n",
                            " 'SAUDI ARABIAN OILBJTM270 360,592 SAR 2.35%',\n",
                            " 'SAUDI AWWAL BANKB12LSY7 121,258 SAR 0.99%',\n",
                            " 'SAUDI BASIC INDUSTRIESB1324D0 173,192 SAR 3.03%',\n",
                            " 'SAUDI TADAWUL GROUP COBMZQ749 33,425 SAR 1.92%',\n",
                            " 'SAUDI TELECOMB12M7Q5 287,416 SAR 2.92%',\n",
                            " 'SBERBANK ROSSII4767981 1,374,068 RUB 0.00%',\n",
                            " 'SHOPRITE HOLDINGS LTD6801575 100,821 ZAR 1.56%',\n",
                            " 'THE COOPERATIVE INSURANCEB128FN6 7,160 SAR 0.24%',\n",
                            " 'THE SAUDI NATIONAL BANKBSHYYN1 374,393 SAR 2.99%',\n",
                            " 'TURKCELL ILETISIM HIZMETLERI AB03MYN3 124,340 TRY 0.28%',\n",
                            " 'UNITED COMPANY RUSALBNGCVY1 572,570 RUB 0.00%',\n",
                            " 'YAPI VE KREDI BANKASI AB03MZJ6 809,808 TRY 0.52%',\n",
                            " 'EUR CASH(Alpha Committed)CASH_EUR 3,910 EUR 0.00%',\n",
                            " 'GBP CASH(Alpha Committed)CASH_GBP 1,352 GBP 0.00%',\n",
                            " 'KWD CASH(COMMITTED)CASH_KWD 56 KWD 0.00%',\n",
                            " 'PLN CASH(Alpha Committed)CASH_PLN 2,088 PLN 0.00%',\n",
                            " 'RON CASH(COMMITTED)CASH_RON 0 RON 0.00%',\n",
                            " 'SAR CASH(COMMITTED)CASH_SAR 1,479 SAR 0.00%',\n",
                            " 'TRY CASH(Alpha Committed)CASH_TRY 7 TRY 0.00%',\n",
                            " 'USD CASH(Alpha Committed)CASH_USD4,667,019 USD 4.22%',\n",
                            " 'ZAR CASH(Alpha Committed)CASH_ZAR 403 ZAR 0.00%']"
                        ]
                    },
                    "execution_count": 8,
                    "metadata": {},
                    "output_type": "execute_result"
                }
            ],
            "source": [
                "# frig the pdf into a text file manually\n",
                "with open(\"bemo_raw.txt\", \"r\") as file:\n",
                "    lines = file.readlines()\n",
                "print(lines)\n",
                "\n",
                "lines = lines[1:]\n",
                "lines = [line.strip() for line in lines]\n",
                "\n",
                "lines = [line.replace('10/31/2024BARINGS EMERGING EMEA OPPORTUNITIES PLCKRYPTON', '') for line in lines]\n",
                "lines = [line.replace('EQUITY', '') for line in lines]\n",
                "lines = [line.replace('CASH CASH', '') for line in lines]\n",
                "lines = [line.split('%')[0] + '%' for line in lines]\n",
                "lines = [line.strip() for line in lines]\n",
                "lines\n",
                "\n"
            ]
        },
        {
            "cell_type": "code",
            "execution_count": 9,
            "metadata": {},
            "outputs": [],
            "source": [
                "# don't do this every time\n",
                "file_path = \"bemo_raw2.txt\"\n",
                "# with open(file_path, \"w\") as file:\n",
                "#     for line in lines:\n",
                "#         file.write(line + \"\\n\")"
            ]
        },
        {
            "cell_type": "code",
            "execution_count": 10,
            "metadata": {},
            "outputs": [
                {
                    "name": "stdout",
                    "output_type": "stream",
                    "text": [
                        "['ABU DHABI COMMERCIAL BANK 6545464 1,030,804 AED 2.27%\\n', 'ADNOC DRILLING COMPANY BN12D39 2,225,680 AED 2.78%\\n', 'AKBANK A B03MN70 360,828 TRY 0.48%\\n', 'AL MOUWASAT MEDICAL SERVICES B403QG4 9,987 SAR 0.23%\\n', 'AL RAJHI BANK B12LZH9 320,274 SAR 6.79%\\n', 'ALDAR PROPERTIES B0LX3Y2 765,014 AED 1.44%\\n', 'ALLEGRO SABMBQDF6 90,590 PLN 0.72%\\n', 'ALPHA SERVICES AND HOLDINGS SABZ1MXR7 1,423,484 EUR 1.93%\\n', 'ANGLO AMERICAN PLATINUM LTD 6761000 101 ZAR 0.00%\\n', 'ANGLO AMERICAN PLCB1YW0L9 26,415 ZAR 0.73%\\n', 'ANGLOGOLD ASHANTI PLCBRF6FX9 90,819 ZAR 2.28%\\n', 'BID CORPORATION LTDBZBFKT7 31,499 ZAR 0.67%\\n', 'BIM BIRLESIK MAGAZALAR AB0D0006 113,669 TRY 1.40%\\n', 'BUPA ARABIA B2RLCR0 12,713 SAR 0.62%\\n', 'CAPITEC LTD 6440859 26,523 ZAR 4.30%\\n', 'DINO POLSKA SA BD0YVN2 13,580 PLN 1.02%\\n', 'DR SULAIMAN AL HABIB MEDICAL GRP BLGM738 21,084 SAR 1.45%\\n', 'EMAAR PROPERTIES B01RM25 744,743 AED 1.59%\\n', 'EMIRATES TELECOM 6322173 409,997 AED 1.79%\\n', 'ETIHAD ETISALAT B12LR51 197,907 SAR 2.47%\\n', 'FIRST ABU DHABI BANK 6624471 484,421 AED 1.57%\\n', 'FIRSTRAND LTD 6606996 1,108,139 ZAR 4.37%\\n', 'GAZPROM B59L4L7 824,340 RUB 0.00%\\n', 'GEDEON RICHTERB C9ZH86 64,449 HUF 1.68%\\n', 'GMK NORILSKIY NIKEL B5B1TX2 1,509,800 RUB 0.00%\\n', 'GOLD FIELDS LTD 6280215 175,778 ZAR 2.61%\\n', 'HACI OMER SABANCI HOLDING AB03N0C7 290,585 TRY 0.64%\\n', 'IMPALA PLATINUM LTD B1FFT76 228,434 ZAR 1.35%\\n', 'INDUSTRIES QATAR 6673570 178,451 QAR 0.59%\\n', 'INPOST SA BN4N9C0 53,688 EUR 0.95%\\n', 'JUMBO SA 7243530 55,410 EUR 1.33%\\n', 'KGHM POLSKA MIEDZ SA 5263251 56,314 PLN 1.90%\\n', 'KOC HOLDING AB03MVJ8 174,104 TRY 0.78%\\n', 'KOMERCNI BANK4519449 44,816 CZK 1.40%\\n', 'KUWAIT FINANCE HOUSE 6503138 196,659 KWD 0.42%\\n', 'MOL HUNGARIAN OIL AND GAS BD5ZXH8 63,789 HUF 0.40%\\n', 'MOSCOW EXCHANGE B9GFHQ6 86,875 RUB 0.00%\\n', 'MR PRICE GROUP LTD BYXW419 30,465 ZAR 0.40%\\n', 'MTN GROUP LTD 6563206 199,835 ZAR 0.90%\\n', 'NASPERS LIMITED LTD CLASS NBN0VX82 27,107 ZAR 5.75%\\n', 'NATIONAL BANK OF GREECE SA BG087C6 75,367 EUR 0.53%\\n', 'NATIONAL BANK OF KUWAIT6 889526 1,109,683 KWD 2.78%\\n', 'NEDBANK GROUP LTD 6628008 45,833 ZAR 0.70%\\n', 'NK LUKOIL B59SNS8 72,519 RUB 0.00%\\n', 'NOVATEK B59HPK1 107,150 RUB 0.00%\\n', 'OTP BANK 7320154 46,369 HUF 2.08%\\n', 'PIRAEUS FINANCIAL HOLDINGS SA BNC0DB0 280,371 EUR 0.95%\\n', 'POWSZECHNA KASA OSZCZEDNOSCI BANK B03NGS5 141,250 PLN 1.78%\\n', 'PZU SA B63DG21 147,630 PLN 1.32%\\n', 'QATAR NATIONAL BANK 6148197 795,213 QAR 3.43%\\n', 'RIYAD BANK B12LZW4 112,592 SAR 0.70%\\n', 'SAUDI ARABIAN MINING B3C8VY3 197,368 SAR 2.68%\\n', 'SAUDI ARABIAN OIL BJTM270 360,592 SAR 2.35%\\n', 'SAUDI AWWAL BANK B12LSY7 121,258 SAR 0.99%\\n', 'SAUDI BASIC INDUSTRIES B1324D0 173,192 SAR 3.03%\\n', 'SAUDI TADAWUL GROUP COBMZQ749 33,425 SAR 1.92%\\n', 'SAUDI TELECO MB12M7Q5 287,416 SAR 2.92%\\n', 'SBERBANK ROSSI I4767981 1,374,068 RUB 0.00%\\n', 'SHOPRITE HOLDINGS LTD 6801575 100,821 ZAR 1.56%\\n', 'THE COOPERATIVE INSURANCE B128FN6 7,160 SAR 0.24%\\n', 'THE SAUDI NATIONAL BANK BSHYYN1 374,393 SAR 2.99%\\n', 'TURKCELL ILETISIM HIZMETLERI AB03MYN3 124,340 TRY 0.28%\\n', 'UNITED COMPANY RUSAL BNGCVY1 572,570 RUB 0.00%\\n', 'YAPI VE KREDI BANKASI AB03MZJ6 809,808 TRY 0.52%\\n', 'EUR CASH(Alpha Committed) CASH_EUR 3,910 EUR 0.00%\\n', 'GBP CASH(Alpha Committed) CASH_GBP 1,352 GBP 0.00%\\n', 'KWD CASH(COMMITTED) CASH_KWD 56 KWD 0.00%\\n', 'PLN CASH(Alpha Committed) CASH_PLN 2,088 PLN 0.00%\\n', 'RON CASH(COMMITTED) CASH_RON 0 RON 0.00%\\n', 'SAR CASH(COMMITTED) CASH_SAR 1,479 SAR 0.00%\\n', 'TRY CASH(Alpha Committed) CASH_TRY 7 TRY 0.00%\\n', 'USD CASH(Alpha Committed) CASH_USD 4,667,019 USD 4.22%\\n', 'ZAR CASH(Alpha Committed) CASH_ZAR 403 ZAR 0.00%\\n']\n"
                    ]
                }
            ],
            "source": [
                "# bemo_raw2.txt needs to be manually frigger for now\n",
                "with open(\"bemo_raw2.txt\", \"r\") as file:\n",
                "    lines = file.readlines()\n",
                "print(lines)"
            ]
        },
        {
            "cell_type": "code",
            "execution_count": 11,
            "metadata": {},
            "outputs": [
                {
                    "data": {
                        "text/plain": [
                            "'total assets: £86,154,160'"
                        ]
                    },
                    "metadata": {},
                    "output_type": "display_data"
                }
            ],
            "source": [
                "nav = 730.12 / 100 # 31/10/2024\n",
                "shares_outstanding = 11.8e6\n",
                "total_assets = nav * shares_outstanding\n",
                "\n",
                "display(f\"total assets: £{total_assets:,.0f}\")"
            ]
        },
        {
            "cell_type": "code",
            "execution_count": 12,
            "metadata": {},
            "outputs": [
                {
                    "name": "stderr",
                    "output_type": "stream",
                    "text": [
                        "/tmp/ipykernel_1014813/2450879098.py:21: FutureWarning: The behavior of DataFrame concatenation with empty or all-NA entries is deprecated. In a future version, this will no longer exclude empty or all-NA columns when determining the result dtypes. To retain the old behavior, exclude the relevant entries before the concat operation.\n",
                        "  df = pd.concat([df, entry_df], ignore_index=True)\n"
                    ]
                },
                {
                    "data": {
                        "text/html": [
                            "<div>\n",
                            "<style scoped>\n",
                            "    .dataframe tbody tr th:only-of-type {\n",
                            "        vertical-align: middle;\n",
                            "    }\n",
                            "\n",
                            "    .dataframe tbody tr th {\n",
                            "        vertical-align: top;\n",
                            "    }\n",
                            "\n",
                            "    .dataframe thead th {\n",
                            "        text-align: right;\n",
                            "    }\n",
                            "</style>\n",
                            "<table border=\"1\" class=\"dataframe\">\n",
                            "  <thead>\n",
                            "    <tr style=\"text-align: right;\">\n",
                            "      <th></th>\n",
                            "      <th>SEDOL</th>\n",
                            "      <th>Name</th>\n",
                            "      <th>Holding</th>\n",
                            "      <th>Value</th>\n",
                            "      <th>Weight</th>\n",
                            "    </tr>\n",
                            "  </thead>\n",
                            "  <tbody>\n",
                            "    <tr>\n",
                            "      <th>0</th>\n",
                            "      <td>6545464</td>\n",
                            "      <td>ABU DHABI COMMERCIAL BANK</td>\n",
                            "      <td>1030804.0</td>\n",
                            "      <td>1955699.432</td>\n",
                            "      <td>0.0227</td>\n",
                            "    </tr>\n",
                            "    <tr>\n",
                            "      <th>1</th>\n",
                            "      <td>BN12D39</td>\n",
                            "      <td>ADNOC DRILLING COMPANY</td>\n",
                            "      <td>2225680.0</td>\n",
                            "      <td>2395085.648</td>\n",
                            "      <td>0.0278</td>\n",
                            "    </tr>\n",
                            "    <tr>\n",
                            "      <th>2</th>\n",
                            "      <td>B03MN70</td>\n",
                            "      <td>AKBANK A</td>\n",
                            "      <td>360828.0</td>\n",
                            "      <td>413539.968</td>\n",
                            "      <td>0.0048</td>\n",
                            "    </tr>\n",
                            "    <tr>\n",
                            "      <th>3</th>\n",
                            "      <td>B403QG4</td>\n",
                            "      <td>AL MOUWASAT MEDICAL SERVICES</td>\n",
                            "      <td>9987.0</td>\n",
                            "      <td>198154.568</td>\n",
                            "      <td>0.0023</td>\n",
                            "    </tr>\n",
                            "    <tr>\n",
                            "      <th>4</th>\n",
                            "      <td>B12LZH9</td>\n",
                            "      <td>AL RAJHI BANK</td>\n",
                            "      <td>320274.0</td>\n",
                            "      <td>5849867.464</td>\n",
                            "      <td>0.0679</td>\n",
                            "    </tr>\n",
                            "    <tr>\n",
                            "      <th>...</th>\n",
                            "      <td>...</td>\n",
                            "      <td>...</td>\n",
                            "      <td>...</td>\n",
                            "      <td>...</td>\n",
                            "      <td>...</td>\n",
                            "    </tr>\n",
                            "    <tr>\n",
                            "      <th>68</th>\n",
                            "      <td>CASH_RON</td>\n",
                            "      <td>RON CASH(COMMITTED)</td>\n",
                            "      <td>0.0</td>\n",
                            "      <td>0.000</td>\n",
                            "      <td>0.0000</td>\n",
                            "    </tr>\n",
                            "    <tr>\n",
                            "      <th>69</th>\n",
                            "      <td>CASH_SAR</td>\n",
                            "      <td>SAR CASH(COMMITTED)</td>\n",
                            "      <td>1479.0</td>\n",
                            "      <td>0.000</td>\n",
                            "      <td>0.0000</td>\n",
                            "    </tr>\n",
                            "    <tr>\n",
                            "      <th>70</th>\n",
                            "      <td>CASH_TRY</td>\n",
                            "      <td>TRY CASH(Alpha Committed)</td>\n",
                            "      <td>7.0</td>\n",
                            "      <td>0.000</td>\n",
                            "      <td>0.0000</td>\n",
                            "    </tr>\n",
                            "    <tr>\n",
                            "      <th>71</th>\n",
                            "      <td>CASH_USD</td>\n",
                            "      <td>USD CASH(Alpha Committed)</td>\n",
                            "      <td>4667019.0</td>\n",
                            "      <td>3635705.552</td>\n",
                            "      <td>0.0422</td>\n",
                            "    </tr>\n",
                            "    <tr>\n",
                            "      <th>72</th>\n",
                            "      <td>CASH_ZAR</td>\n",
                            "      <td>ZAR CASH(Alpha Committed)</td>\n",
                            "      <td>403.0</td>\n",
                            "      <td>0.000</td>\n",
                            "      <td>0.0000</td>\n",
                            "    </tr>\n",
                            "  </tbody>\n",
                            "</table>\n",
                            "<p>73 rows × 5 columns</p>\n",
                            "</div>"
                        ],
                        "text/plain": [
                            "       SEDOL                          Name    Holding        Value  Weight\n",
                            "0    6545464     ABU DHABI COMMERCIAL BANK  1030804.0  1955699.432  0.0227\n",
                            "1    BN12D39        ADNOC DRILLING COMPANY  2225680.0  2395085.648  0.0278\n",
                            "2    B03MN70                      AKBANK A   360828.0   413539.968  0.0048\n",
                            "3    B403QG4  AL MOUWASAT MEDICAL SERVICES     9987.0   198154.568  0.0023\n",
                            "4    B12LZH9                 AL RAJHI BANK   320274.0  5849867.464  0.0679\n",
                            "..       ...                           ...        ...          ...     ...\n",
                            "68  CASH_RON           RON CASH(COMMITTED)        0.0        0.000  0.0000\n",
                            "69  CASH_SAR           SAR CASH(COMMITTED)     1479.0        0.000  0.0000\n",
                            "70  CASH_TRY     TRY CASH(Alpha Committed)        7.0        0.000  0.0000\n",
                            "71  CASH_USD     USD CASH(Alpha Committed)  4667019.0  3635705.552  0.0422\n",
                            "72  CASH_ZAR     ZAR CASH(Alpha Committed)      403.0        0.000  0.0000\n",
                            "\n",
                            "[73 rows x 5 columns]"
                        ]
                    },
                    "execution_count": 12,
                    "metadata": {},
                    "output_type": "execute_result"
                }
            ],
            "source": [
                "def lines_to_df(lines):\n",
                "    df = pd.DataFrame(columns=cols)\n",
                "\n",
                "    for line in lines:\n",
                "        sections = line.split(\" \")\n",
                "\n",
                "        sedol = sections[-4]\n",
                "        weight = float(sections[-1].strip(\"\\n\").strip(\"%\")) / 100\n",
                "        holding = clean_float_str(sections[-3])\n",
                "        name = \" \".join(sections[0:-4])\n",
                "\n",
                "        entry = {\n",
                "            cols[0]: sedol,\n",
                "            cols[1]: name,\n",
                "            cols[2]: holding,\n",
                "            cols[3]: weight * total_assets,\n",
                "            cols[4]: weight,\n",
                "        }\n",
                "\n",
                "        entry_df = pd.DataFrame([entry])\n",
                "        df = pd.concat([df, entry_df], ignore_index=True)\n",
                "\n",
                "\n",
                "\n",
                "    return df\n",
                "\n",
                "df = lines_to_df(lines)\n",
                "check_df_types(df)\n",
                "df"
            ]
        },
        {
            "cell_type": "code",
            "execution_count": 13,
            "metadata": {},
            "outputs": [
                {
                    "name": "stdout",
                    "output_type": "stream",
                    "text": [
                        "Total Weight: 0.9997\n",
                        "Total Value: £86,128,314\n"
                    ]
                }
            ],
            "source": [
                "total_weight = df['Weight'].sum()\n",
                "print(\"Total Weight:\", total_weight)\n",
                "\n",
                "total_value = df['Value'].sum()\n",
                "print(f\"Total Value: £{total_value:,.0f}\")"
            ]
        }
    ],
    "metadata": {
        "kernelspec": {
            "display_name": "Python 3",
            "language": "python",
            "name": "python3"
        },
        "language_info": {
            "codemirror_mode": {
                "name": "ipython",
                "version": 3
            },
            "file_extension": ".py",
            "mimetype": "text/x-python",
            "name": "python",
            "nbconvert_exporter": "python",
            "pygments_lexer": "ipython3",
            "version": "3.12.3"
        }
    },
    "nbformat": 4,
    "nbformat_minor": 2
}
