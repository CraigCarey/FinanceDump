{
 "cells": [
  {
   "cell_type": "code",
   "execution_count": 2,
   "metadata": {},
   "outputs": [],
   "source": [
    "import torch\n",
    "import numpy as np"
   ]
  },
  {
   "cell_type": "code",
   "execution_count": 5,
   "metadata": {},
   "outputs": [
    {
     "name": "stdout",
     "output_type": "stream",
     "text": [
      "tensor([ 2.5124, -0.3231, -1.8432], requires_grad=True)\n"
     ]
    }
   ],
   "source": [
    "# Tell pytorch it will need to calculate the gradients for the tensor later\n",
    "# This is necessary for variable optimization\n",
    "x = torch.randn(3, requires_grad=True)\n",
    "print(x)"
   ]
  },
  {
   "cell_type": "code",
   "execution_count": 14,
   "metadata": {},
   "outputs": [
    {
     "name": "stdout",
     "output_type": "stream",
     "text": [
      "tensor([4.5124, 1.6769, 0.1568], grad_fn=<AddBackward0>)\n"
     ]
    }
   ],
   "source": [
    "# Creates a computational graph - in this case a '+' node with inputs x and 2, and output y\n",
    "y = x + 2\n",
    "print(y)"
   ]
  },
  {
   "cell_type": "code",
   "execution_count": 15,
   "metadata": {},
   "outputs": [
    {
     "name": "stdout",
     "output_type": "stream",
     "text": [
      "tensor([40.7239,  5.6242,  0.0492], grad_fn=<MulBackward0>)\n",
      "tensor(15.4658, grad_fn=<MeanBackward0>)\n",
      "tensor([18.0497,  6.7077,  0.6272])\n"
     ]
    }
   ],
   "source": [
    "# Forward pass calculates the output and stores the function which is used in the backprop to calculate the gradient\n",
    "z = y * y * 2\n",
    "print(z)\n",
    "\n",
    "z = z.mean()\n",
    "print(z)\n",
    "\n",
    "z.backward() # calculate the gradient of z wrt x: dz/dx\n",
    "print(x.grad)"
   ]
  },
  {
   "cell_type": "code",
   "execution_count": 18,
   "metadata": {},
   "outputs": [
    {
     "name": "stdout",
     "output_type": "stream",
     "text": [
      "tensor([40.7239,  5.6242,  0.0492], grad_fn=<MulBackward0>)\n",
      "tensor([21.6596, 20.1231,  0.6285])\n"
     ]
    }
   ],
   "source": [
    "z = y * y * 2\n",
    "print(z)\n",
    "\n",
    "# z.backward() # grad can be implicitly created only for scalar outputs\n",
    "\n",
    "# so we have to provide a vector of the same shape, as it is a vector jacobian product\n",
    "v = torch.tensor([0.1, 1.0, 0.001], dtype=torch.float32)\n",
    "z.backward(v)\n",
    "\n",
    "print(x.grad)"
   ]
  },
  {
   "cell_type": "code",
   "execution_count": 30,
   "metadata": {},
   "outputs": [
    {
     "name": "stdout",
     "output_type": "stream",
     "text": [
      "tensor([ 0.2911, -0.2769, -0.3694], requires_grad=True)\n",
      "tensor([ 0.2911, -0.2769, -0.3694])\n",
      "tensor([ 0.2911, -0.2769, -0.3694])\n",
      "tensor([2.0294, 1.1699, 2.9281])\n"
     ]
    }
   ],
   "source": [
    "x = torch.randn(3, requires_grad=True)\n",
    "print(x)\n",
    "\n",
    "# Prevent the tracking of grads\n",
    "y = x.detach()\n",
    "print(y)\n",
    "\n",
    "x.requires_grad_(False)\n",
    "print(x)\n",
    "\n",
    "x = torch.randn(3, requires_grad=True)\n",
    "\n",
    "with torch.no_grad():\n",
    "    y = x + 2\n",
    "    print(y)"
   ]
  },
  {
   "cell_type": "code",
   "execution_count": 35,
   "metadata": {},
   "outputs": [
    {
     "name": "stdout",
     "output_type": "stream",
     "text": [
      "tensor([3., 3., 3., 3.])\n",
      "\n",
      "tensor([3., 3., 3., 3.])\n",
      "tensor([6., 6., 6., 6.])\n",
      "tensor([9., 9., 9., 9.])\n",
      "\n",
      "tensor([3., 3., 3., 3.])\n",
      "tensor([3., 3., 3., 3.])\n",
      "tensor([3., 3., 3., 3.])\n"
     ]
    }
   ],
   "source": [
    "weights = torch.ones(4, requires_grad=True)\n",
    "\n",
    "for epoch in range(1):\n",
    "    model_output = (weights * 3).sum()\n",
    "\n",
    "    model_output.backward()\n",
    "\n",
    "    print(weights.grad)\n",
    "\n",
    "weights = torch.ones(4, requires_grad=True)\n",
    "\n",
    "print()\n",
    "\n",
    "# The gradient values accumulate\n",
    "for epoch in range(3):\n",
    "    model_output = (weights * 3).sum()\n",
    "\n",
    "    model_output.backward()\n",
    "\n",
    "    print(weights.grad)\n",
    "\n",
    "print()\n",
    "\n",
    "\n",
    "weights = torch.ones(4, requires_grad=True)\n",
    "\n",
    "# To stop the gradients accumulating we need to zero them each epoch\n",
    "for epoch in range(3):\n",
    "    model_output = (weights * 3).sum()\n",
    "\n",
    "    model_output.backward()\n",
    "\n",
    "    print(weights.grad)\n",
    "\n",
    "    weights.grad.zero_()"
   ]
  },
  {
   "cell_type": "code",
   "execution_count": 37,
   "metadata": {},
   "outputs": [],
   "source": [
    "# Zeroing grads IRL\n",
    "# optimizer = torch.optim.SGD(weights, lr=0.01)\n",
    "# optimizer.step()\n",
    "# optimizer.zero_grad()"
   ]
  }
 ],
 "metadata": {
  "kernelspec": {
   "display_name": "pytorch-venv",
   "language": "python",
   "name": "python3"
  },
  "language_info": {
   "codemirror_mode": {
    "name": "ipython",
    "version": 3
   },
   "file_extension": ".py",
   "mimetype": "text/x-python",
   "name": "python",
   "nbconvert_exporter": "python",
   "pygments_lexer": "ipython3",
   "version": "3.8.10"
  },
  "orig_nbformat": 4,
  "vscode": {
   "interpreter": {
    "hash": "2b009b59f3b0e8c8629e2225361f63c5977373fc2053ce04082919864a05979c"
   }
  }
 },
 "nbformat": 4,
 "nbformat_minor": 2
}
